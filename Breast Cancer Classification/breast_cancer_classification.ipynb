{
  "cells": [
    {
      "cell_type": "markdown",
      "metadata": {
        "id": "oKt4Kq9WWv2r"
      },
      "source": [
        "© Ritwik Chandra Pandey\n",
        "\n",
        "\n",
        "2nd MSc (Maths) - Specialisation in CS"
      ]
    },
    {
      "cell_type": "markdown",
      "metadata": {
        "id": "4Kby1ADMW0SB"
      },
      "source": [
        "##IMPORTING LIBRARIES"
      ]
    },
    {
      "cell_type": "code",
      "execution_count": 1,
      "metadata": {
        "id": "z0TnGyXsWzBe"
      },
      "outputs": [],
      "source": [
        "import numpy as np\n",
        "import matplotlib.pyplot as plt\n",
        "import pandas as pd\n",
        "from sklearn.model_selection import cross_val_score, train_test_split, KFold, StratifiedShuffleSplit, GridSearchCV\n",
        "from sklearn.neighbors import KNeighborsClassifier\n",
        "from sklearn.ensemble import RandomForestClassifier,GradientBoostingClassifier\n",
        "from sklearn.preprocessing import StandardScaler\n",
        "from sklearn.tree import DecisionTreeClassifier\n",
        "from imblearn.over_sampling import SMOTE\n",
        "from sklearn.metrics import confusion_matrix,roc_auc_score, recall_score,precision_score,accuracy_score"
      ]
    },
    {
      "cell_type": "markdown",
      "metadata": {
        "id": "FH413yEbXAIy"
      },
      "source": [
        "##IMPORTING THE DATASET"
      ]
    },
    {
      "cell_type": "code",
      "execution_count": 2,
      "metadata": {
        "id": "tDJCL1EQXAhn"
      },
      "outputs": [],
      "source": [
        "from sklearn.datasets import load_breast_cancer\n",
        "df = pd.DataFrame(load_breast_cancer()['data'], columns=load_breast_cancer()['feature_names'])\n",
        "df['y'] = load_breast_cancer()['target']"
      ]
    },
    {
      "cell_type": "markdown",
      "metadata": {
        "id": "HD5lZh4dXc96"
      },
      "source": [
        "## BASIC INFORMATION ABOUT THE DATASET\n",
        "\n",
        "### Number of Null values in each column of df"
      ]
    },
    {
      "cell_type": "code",
      "execution_count": 3,
      "metadata": {
        "colab": {
          "base_uri": "https://localhost:8080/"
        },
        "id": "VzlwlphlXWOI",
        "outputId": "7be145ee-d135-421f-a315-9173847552e3"
      },
      "outputs": [
        {
          "output_type": "execute_result",
          "data": {
            "text/plain": [
              "mean radius                0\n",
              "mean texture               0\n",
              "mean perimeter             0\n",
              "mean area                  0\n",
              "mean smoothness            0\n",
              "mean compactness           0\n",
              "mean concavity             0\n",
              "mean concave points        0\n",
              "mean symmetry              0\n",
              "mean fractal dimension     0\n",
              "radius error               0\n",
              "texture error              0\n",
              "perimeter error            0\n",
              "area error                 0\n",
              "smoothness error           0\n",
              "compactness error          0\n",
              "concavity error            0\n",
              "concave points error       0\n",
              "symmetry error             0\n",
              "fractal dimension error    0\n",
              "worst radius               0\n",
              "worst texture              0\n",
              "worst perimeter            0\n",
              "worst area                 0\n",
              "worst smoothness           0\n",
              "worst compactness          0\n",
              "worst concavity            0\n",
              "worst concave points       0\n",
              "worst symmetry             0\n",
              "worst fractal dimension    0\n",
              "y                          0\n",
              "dtype: int64"
            ]
          },
          "metadata": {},
          "execution_count": 3
        }
      ],
      "source": [
        "pd.set_option('display.max_rows', None)\n",
        "df.isnull().sum()"
      ]
    },
    {
      "cell_type": "code",
      "execution_count": 4,
      "metadata": {
        "colab": {
          "base_uri": "https://localhost:8080/"
        },
        "id": "TPWfqo8-Xji1",
        "outputId": "896d2591-4cb6-4358-c7f8-161a94a5d054"
      },
      "outputs": [
        {
          "output_type": "stream",
          "name": "stdout",
          "text": [
            "<class 'pandas.core.frame.DataFrame'>\n",
            "RangeIndex: 569 entries, 0 to 568\n",
            "Data columns (total 31 columns):\n",
            " #   Column                   Non-Null Count  Dtype  \n",
            "---  ------                   --------------  -----  \n",
            " 0   mean radius              569 non-null    float64\n",
            " 1   mean texture             569 non-null    float64\n",
            " 2   mean perimeter           569 non-null    float64\n",
            " 3   mean area                569 non-null    float64\n",
            " 4   mean smoothness          569 non-null    float64\n",
            " 5   mean compactness         569 non-null    float64\n",
            " 6   mean concavity           569 non-null    float64\n",
            " 7   mean concave points      569 non-null    float64\n",
            " 8   mean symmetry            569 non-null    float64\n",
            " 9   mean fractal dimension   569 non-null    float64\n",
            " 10  radius error             569 non-null    float64\n",
            " 11  texture error            569 non-null    float64\n",
            " 12  perimeter error          569 non-null    float64\n",
            " 13  area error               569 non-null    float64\n",
            " 14  smoothness error         569 non-null    float64\n",
            " 15  compactness error        569 non-null    float64\n",
            " 16  concavity error          569 non-null    float64\n",
            " 17  concave points error     569 non-null    float64\n",
            " 18  symmetry error           569 non-null    float64\n",
            " 19  fractal dimension error  569 non-null    float64\n",
            " 20  worst radius             569 non-null    float64\n",
            " 21  worst texture            569 non-null    float64\n",
            " 22  worst perimeter          569 non-null    float64\n",
            " 23  worst area               569 non-null    float64\n",
            " 24  worst smoothness         569 non-null    float64\n",
            " 25  worst compactness        569 non-null    float64\n",
            " 26  worst concavity          569 non-null    float64\n",
            " 27  worst concave points     569 non-null    float64\n",
            " 28  worst symmetry           569 non-null    float64\n",
            " 29  worst fractal dimension  569 non-null    float64\n",
            " 30  y                        569 non-null    int64  \n",
            "dtypes: float64(30), int64(1)\n",
            "memory usage: 137.9 KB\n"
          ]
        }
      ],
      "source": [
        "df.info()"
      ]
    },
    {
      "cell_type": "code",
      "execution_count": 5,
      "metadata": {
        "colab": {
          "base_uri": "https://localhost:8080/"
        },
        "id": "2gvX-nMEXpjh",
        "outputId": "585b3e5a-91f8-4705-8dd5-8ef1cdcdaef5"
      },
      "outputs": [
        {
          "output_type": "execute_result",
          "data": {
            "text/plain": [
              "count    569.000000\n",
              "mean       0.627417\n",
              "std        0.483918\n",
              "min        0.000000\n",
              "25%        0.000000\n",
              "50%        1.000000\n",
              "75%        1.000000\n",
              "max        1.000000\n",
              "Name: y, dtype: float64"
            ]
          },
          "metadata": {},
          "execution_count": 5
        }
      ],
      "source": [
        "#Describing the label to be predicted in train.scv\n",
        "df['y'].describe()"
      ]
    },
    {
      "cell_type": "code",
      "execution_count": 6,
      "metadata": {
        "colab": {
          "base_uri": "https://localhost:8080/"
        },
        "id": "Z2Ib4g65YVtF",
        "outputId": "087ee87c-485e-4f4c-d2b7-4f3fd53a846c"
      },
      "outputs": [
        {
          "output_type": "stream",
          "name": "stdout",
          "text": [
            "Benign values in the dataset : 357\n",
            "Malignant values in the dataset : 212\n",
            "Percent of Benign values in the dataset: 62.741652021089635 %\n",
            "Percent of Malignant values in the dataset: 37.258347978910365 %\n"
          ]
        }
      ],
      "source": [
        "#Getting the frequency of each value in df['y']\n",
        "M = df['y'].value_counts()[0]\n",
        "B = df['y'].value_counts()[1]\n",
        "Total = B+M\n",
        "print('Benign values in the dataset : ' + str(B))\n",
        "print('Malignant values in the dataset : ' + str(M))\n",
        "print('Percent of Benign values in the dataset: ' + str((B/Total)*100) + \" %\")\n",
        "print('Percent of Malignant values in the dataset: ' + str((M/Total)*100) + \" %\")"
      ]
    },
    {
      "cell_type": "markdown",
      "metadata": {
        "id": "F35T8PCjY-Pv"
      },
      "source": [
        "Malignant is represented using 0 and Benign is represented using 1 in the dataset."
      ]
    },
    {
      "cell_type": "code",
      "execution_count": 7,
      "metadata": {
        "colab": {
          "base_uri": "https://localhost:8080/",
          "height": 334
        },
        "id": "oGiS4G93XuSu",
        "outputId": "108784ac-e0f3-449e-ac6d-7796b88db0d6"
      },
      "outputs": [
        {
          "output_type": "execute_result",
          "data": {
            "text/plain": [
              "   mean radius  mean texture  mean perimeter  mean area  mean smoothness  \\\n",
              "0        17.99         10.38          122.80     1001.0          0.11840   \n",
              "1        20.57         17.77          132.90     1326.0          0.08474   \n",
              "2        19.69         21.25          130.00     1203.0          0.10960   \n",
              "3        11.42         20.38           77.58      386.1          0.14250   \n",
              "4        20.29         14.34          135.10     1297.0          0.10030   \n",
              "\n",
              "   mean compactness  mean concavity  mean concave points  mean symmetry  \\\n",
              "0           0.27760          0.3001              0.14710         0.2419   \n",
              "1           0.07864          0.0869              0.07017         0.1812   \n",
              "2           0.15990          0.1974              0.12790         0.2069   \n",
              "3           0.28390          0.2414              0.10520         0.2597   \n",
              "4           0.13280          0.1980              0.10430         0.1809   \n",
              "\n",
              "   mean fractal dimension  ...  worst texture  worst perimeter  worst area  \\\n",
              "0                 0.07871  ...          17.33           184.60      2019.0   \n",
              "1                 0.05667  ...          23.41           158.80      1956.0   \n",
              "2                 0.05999  ...          25.53           152.50      1709.0   \n",
              "3                 0.09744  ...          26.50            98.87       567.7   \n",
              "4                 0.05883  ...          16.67           152.20      1575.0   \n",
              "\n",
              "   worst smoothness  worst compactness  worst concavity  worst concave points  \\\n",
              "0            0.1622             0.6656           0.7119                0.2654   \n",
              "1            0.1238             0.1866           0.2416                0.1860   \n",
              "2            0.1444             0.4245           0.4504                0.2430   \n",
              "3            0.2098             0.8663           0.6869                0.2575   \n",
              "4            0.1374             0.2050           0.4000                0.1625   \n",
              "\n",
              "   worst symmetry  worst fractal dimension  y  \n",
              "0          0.4601                  0.11890  0  \n",
              "1          0.2750                  0.08902  0  \n",
              "2          0.3613                  0.08758  0  \n",
              "3          0.6638                  0.17300  0  \n",
              "4          0.2364                  0.07678  0  \n",
              "\n",
              "[5 rows x 31 columns]"
            ],
            "text/html": [
              "\n",
              "  <div id=\"df-61fd5fed-52dc-4cbf-a1cf-325900b3837a\">\n",
              "    <div class=\"colab-df-container\">\n",
              "      <div>\n",
              "<style scoped>\n",
              "    .dataframe tbody tr th:only-of-type {\n",
              "        vertical-align: middle;\n",
              "    }\n",
              "\n",
              "    .dataframe tbody tr th {\n",
              "        vertical-align: top;\n",
              "    }\n",
              "\n",
              "    .dataframe thead th {\n",
              "        text-align: right;\n",
              "    }\n",
              "</style>\n",
              "<table border=\"1\" class=\"dataframe\">\n",
              "  <thead>\n",
              "    <tr style=\"text-align: right;\">\n",
              "      <th></th>\n",
              "      <th>mean radius</th>\n",
              "      <th>mean texture</th>\n",
              "      <th>mean perimeter</th>\n",
              "      <th>mean area</th>\n",
              "      <th>mean smoothness</th>\n",
              "      <th>mean compactness</th>\n",
              "      <th>mean concavity</th>\n",
              "      <th>mean concave points</th>\n",
              "      <th>mean symmetry</th>\n",
              "      <th>mean fractal dimension</th>\n",
              "      <th>...</th>\n",
              "      <th>worst texture</th>\n",
              "      <th>worst perimeter</th>\n",
              "      <th>worst area</th>\n",
              "      <th>worst smoothness</th>\n",
              "      <th>worst compactness</th>\n",
              "      <th>worst concavity</th>\n",
              "      <th>worst concave points</th>\n",
              "      <th>worst symmetry</th>\n",
              "      <th>worst fractal dimension</th>\n",
              "      <th>y</th>\n",
              "    </tr>\n",
              "  </thead>\n",
              "  <tbody>\n",
              "    <tr>\n",
              "      <th>0</th>\n",
              "      <td>17.99</td>\n",
              "      <td>10.38</td>\n",
              "      <td>122.80</td>\n",
              "      <td>1001.0</td>\n",
              "      <td>0.11840</td>\n",
              "      <td>0.27760</td>\n",
              "      <td>0.3001</td>\n",
              "      <td>0.14710</td>\n",
              "      <td>0.2419</td>\n",
              "      <td>0.07871</td>\n",
              "      <td>...</td>\n",
              "      <td>17.33</td>\n",
              "      <td>184.60</td>\n",
              "      <td>2019.0</td>\n",
              "      <td>0.1622</td>\n",
              "      <td>0.6656</td>\n",
              "      <td>0.7119</td>\n",
              "      <td>0.2654</td>\n",
              "      <td>0.4601</td>\n",
              "      <td>0.11890</td>\n",
              "      <td>0</td>\n",
              "    </tr>\n",
              "    <tr>\n",
              "      <th>1</th>\n",
              "      <td>20.57</td>\n",
              "      <td>17.77</td>\n",
              "      <td>132.90</td>\n",
              "      <td>1326.0</td>\n",
              "      <td>0.08474</td>\n",
              "      <td>0.07864</td>\n",
              "      <td>0.0869</td>\n",
              "      <td>0.07017</td>\n",
              "      <td>0.1812</td>\n",
              "      <td>0.05667</td>\n",
              "      <td>...</td>\n",
              "      <td>23.41</td>\n",
              "      <td>158.80</td>\n",
              "      <td>1956.0</td>\n",
              "      <td>0.1238</td>\n",
              "      <td>0.1866</td>\n",
              "      <td>0.2416</td>\n",
              "      <td>0.1860</td>\n",
              "      <td>0.2750</td>\n",
              "      <td>0.08902</td>\n",
              "      <td>0</td>\n",
              "    </tr>\n",
              "    <tr>\n",
              "      <th>2</th>\n",
              "      <td>19.69</td>\n",
              "      <td>21.25</td>\n",
              "      <td>130.00</td>\n",
              "      <td>1203.0</td>\n",
              "      <td>0.10960</td>\n",
              "      <td>0.15990</td>\n",
              "      <td>0.1974</td>\n",
              "      <td>0.12790</td>\n",
              "      <td>0.2069</td>\n",
              "      <td>0.05999</td>\n",
              "      <td>...</td>\n",
              "      <td>25.53</td>\n",
              "      <td>152.50</td>\n",
              "      <td>1709.0</td>\n",
              "      <td>0.1444</td>\n",
              "      <td>0.4245</td>\n",
              "      <td>0.4504</td>\n",
              "      <td>0.2430</td>\n",
              "      <td>0.3613</td>\n",
              "      <td>0.08758</td>\n",
              "      <td>0</td>\n",
              "    </tr>\n",
              "    <tr>\n",
              "      <th>3</th>\n",
              "      <td>11.42</td>\n",
              "      <td>20.38</td>\n",
              "      <td>77.58</td>\n",
              "      <td>386.1</td>\n",
              "      <td>0.14250</td>\n",
              "      <td>0.28390</td>\n",
              "      <td>0.2414</td>\n",
              "      <td>0.10520</td>\n",
              "      <td>0.2597</td>\n",
              "      <td>0.09744</td>\n",
              "      <td>...</td>\n",
              "      <td>26.50</td>\n",
              "      <td>98.87</td>\n",
              "      <td>567.7</td>\n",
              "      <td>0.2098</td>\n",
              "      <td>0.8663</td>\n",
              "      <td>0.6869</td>\n",
              "      <td>0.2575</td>\n",
              "      <td>0.6638</td>\n",
              "      <td>0.17300</td>\n",
              "      <td>0</td>\n",
              "    </tr>\n",
              "    <tr>\n",
              "      <th>4</th>\n",
              "      <td>20.29</td>\n",
              "      <td>14.34</td>\n",
              "      <td>135.10</td>\n",
              "      <td>1297.0</td>\n",
              "      <td>0.10030</td>\n",
              "      <td>0.13280</td>\n",
              "      <td>0.1980</td>\n",
              "      <td>0.10430</td>\n",
              "      <td>0.1809</td>\n",
              "      <td>0.05883</td>\n",
              "      <td>...</td>\n",
              "      <td>16.67</td>\n",
              "      <td>152.20</td>\n",
              "      <td>1575.0</td>\n",
              "      <td>0.1374</td>\n",
              "      <td>0.2050</td>\n",
              "      <td>0.4000</td>\n",
              "      <td>0.1625</td>\n",
              "      <td>0.2364</td>\n",
              "      <td>0.07678</td>\n",
              "      <td>0</td>\n",
              "    </tr>\n",
              "  </tbody>\n",
              "</table>\n",
              "<p>5 rows × 31 columns</p>\n",
              "</div>\n",
              "      <button class=\"colab-df-convert\" onclick=\"convertToInteractive('df-61fd5fed-52dc-4cbf-a1cf-325900b3837a')\"\n",
              "              title=\"Convert this dataframe to an interactive table.\"\n",
              "              style=\"display:none;\">\n",
              "        \n",
              "  <svg xmlns=\"http://www.w3.org/2000/svg\" height=\"24px\"viewBox=\"0 0 24 24\"\n",
              "       width=\"24px\">\n",
              "    <path d=\"M0 0h24v24H0V0z\" fill=\"none\"/>\n",
              "    <path d=\"M18.56 5.44l.94 2.06.94-2.06 2.06-.94-2.06-.94-.94-2.06-.94 2.06-2.06.94zm-11 1L8.5 8.5l.94-2.06 2.06-.94-2.06-.94L8.5 2.5l-.94 2.06-2.06.94zm10 10l.94 2.06.94-2.06 2.06-.94-2.06-.94-.94-2.06-.94 2.06-2.06.94z\"/><path d=\"M17.41 7.96l-1.37-1.37c-.4-.4-.92-.59-1.43-.59-.52 0-1.04.2-1.43.59L10.3 9.45l-7.72 7.72c-.78.78-.78 2.05 0 2.83L4 21.41c.39.39.9.59 1.41.59.51 0 1.02-.2 1.41-.59l7.78-7.78 2.81-2.81c.8-.78.8-2.07 0-2.86zM5.41 20L4 18.59l7.72-7.72 1.47 1.35L5.41 20z\"/>\n",
              "  </svg>\n",
              "      </button>\n",
              "      \n",
              "  <style>\n",
              "    .colab-df-container {\n",
              "      display:flex;\n",
              "      flex-wrap:wrap;\n",
              "      gap: 12px;\n",
              "    }\n",
              "\n",
              "    .colab-df-convert {\n",
              "      background-color: #E8F0FE;\n",
              "      border: none;\n",
              "      border-radius: 50%;\n",
              "      cursor: pointer;\n",
              "      display: none;\n",
              "      fill: #1967D2;\n",
              "      height: 32px;\n",
              "      padding: 0 0 0 0;\n",
              "      width: 32px;\n",
              "    }\n",
              "\n",
              "    .colab-df-convert:hover {\n",
              "      background-color: #E2EBFA;\n",
              "      box-shadow: 0px 1px 2px rgba(60, 64, 67, 0.3), 0px 1px 3px 1px rgba(60, 64, 67, 0.15);\n",
              "      fill: #174EA6;\n",
              "    }\n",
              "\n",
              "    [theme=dark] .colab-df-convert {\n",
              "      background-color: #3B4455;\n",
              "      fill: #D2E3FC;\n",
              "    }\n",
              "\n",
              "    [theme=dark] .colab-df-convert:hover {\n",
              "      background-color: #434B5C;\n",
              "      box-shadow: 0px 1px 3px 1px rgba(0, 0, 0, 0.15);\n",
              "      filter: drop-shadow(0px 1px 2px rgba(0, 0, 0, 0.3));\n",
              "      fill: #FFFFFF;\n",
              "    }\n",
              "  </style>\n",
              "\n",
              "      <script>\n",
              "        const buttonEl =\n",
              "          document.querySelector('#df-61fd5fed-52dc-4cbf-a1cf-325900b3837a button.colab-df-convert');\n",
              "        buttonEl.style.display =\n",
              "          google.colab.kernel.accessAllowed ? 'block' : 'none';\n",
              "\n",
              "        async function convertToInteractive(key) {\n",
              "          const element = document.querySelector('#df-61fd5fed-52dc-4cbf-a1cf-325900b3837a');\n",
              "          const dataTable =\n",
              "            await google.colab.kernel.invokeFunction('convertToInteractive',\n",
              "                                                     [key], {});\n",
              "          if (!dataTable) return;\n",
              "\n",
              "          const docLinkHtml = 'Like what you see? Visit the ' +\n",
              "            '<a target=\"_blank\" href=https://colab.research.google.com/notebooks/data_table.ipynb>data table notebook</a>'\n",
              "            + ' to learn more about interactive tables.';\n",
              "          element.innerHTML = '';\n",
              "          dataTable['output_type'] = 'display_data';\n",
              "          await google.colab.output.renderOutput(dataTable, element);\n",
              "          const docLink = document.createElement('div');\n",
              "          docLink.innerHTML = docLinkHtml;\n",
              "          element.appendChild(docLink);\n",
              "        }\n",
              "      </script>\n",
              "    </div>\n",
              "  </div>\n",
              "  "
            ]
          },
          "metadata": {},
          "execution_count": 7
        }
      ],
      "source": [
        "df.head()"
      ]
    },
    {
      "cell_type": "markdown",
      "metadata": {
        "id": "Vrhcr0FlgdJ9"
      },
      "source": [
        "## DATA PREPROCESSING\n",
        "\n",
        "### Feature Scaling"
      ]
    },
    {
      "cell_type": "code",
      "execution_count": 8,
      "metadata": {
        "id": "wup6psd2gsrY"
      },
      "outputs": [],
      "source": [
        "target = df['y']\n",
        "df_dropped = df.drop('y', axis = 1)\n",
        "sc = StandardScaler()\n",
        "df_dropped = sc.fit_transform(df_dropped)"
      ]
    },
    {
      "cell_type": "markdown",
      "metadata": {
        "id": "_03i1359YE7-"
      },
      "source": [
        "## SPLITTING THE DATASET"
      ]
    },
    {
      "cell_type": "code",
      "execution_count": 9,
      "metadata": {
        "id": "27ieEl-SYDOp"
      },
      "outputs": [],
      "source": [
        "X, y = df_dropped, target\n",
        "X_train, X_test, y_train, y_test = train_test_split(X, y, test_size=0.30, random_state=118)"
      ]
    },
    {
      "cell_type": "markdown",
      "metadata": {
        "id": "wHFA2Vx3-Dzw"
      },
      "source": [
        "## HANDLING DATA IMBALANCE USING SMOTE"
      ]
    },
    {
      "cell_type": "code",
      "execution_count": 10,
      "metadata": {
        "colab": {
          "base_uri": "https://localhost:8080/"
        },
        "id": "XKIfecz7-I1u",
        "outputId": "3ef753ed-9e4d-41ef-9a5f-bd209693029c"
      },
      "outputs": [
        {
          "output_type": "stream",
          "name": "stdout",
          "text": [
            "Before OverSampling, counts of label '1' - Benign: 246\n",
            "Before OverSampling, counts of label '0' - Malignant: 152 \n",
            "\n",
            "Before OverSampling, the shape of train_X: (398, 30)\n",
            "Before OverSampling, the shape of train_y: (398,) \n",
            "\n",
            "After OverSampling, the shape of train_X_res: (492, 30)\n",
            "After OverSampling, the shape of train_y_res: (492,) \n",
            "\n",
            "After OverSampling, counts of label '1'  - Benign: 246\n",
            "After OverSampling, counts of label '0' - Malignant: 246\n"
          ]
        }
      ],
      "source": [
        "print(\"Before OverSampling, counts of label '1' - Benign: {}\".format(sum(y_train==1)))\n",
        "print(\"Before OverSampling, counts of label '0' - Malignant: {} \\n\".format(sum(y_train==0)))\n",
        "print('Before OverSampling, the shape of train_X: {}'.format(X_train.shape))\n",
        "print('Before OverSampling, the shape of train_y: {} \\n'.format(y_train.shape))\n",
        "\n",
        "sm = SMOTE(random_state=2)\n",
        "X_train_res, y_train_res = sm.fit_resample(X_train, y_train.ravel())\n",
        "\n",
        "print('After OverSampling, the shape of train_X_res: {}'.format(X_train_res.shape))\n",
        "print('After OverSampling, the shape of train_y_res: {} \\n'.format(y_train_res.shape))\n",
        "\n",
        "print(\"After OverSampling, counts of label '1'  - Benign: {}\".format(sum(y_train_res==1)))\n",
        "print(\"After OverSampling, counts of label '0' - Malignant: {}\".format(sum(y_train_res==0)))"
      ]
    },
    {
      "cell_type": "markdown",
      "metadata": {
        "id": "G0F8Y-lrh6X0"
      },
      "source": [
        "## CLASSIFICATION USING DECISION TREE"
      ]
    },
    {
      "cell_type": "markdown",
      "metadata": {
        "id": "x3w9lOPc51F_"
      },
      "source": [
        "#### Without OverSampling"
      ]
    },
    {
      "cell_type": "code",
      "execution_count": 39,
      "metadata": {
        "colab": {
          "base_uri": "https://localhost:8080/"
        },
        "id": "dhQR19dsaILC",
        "outputId": "b0e0ddbf-da33-46fd-d353-29606f480353"
      },
      "outputs": [
        {
          "output_type": "stream",
          "name": "stdout",
          "text": [
            "Fitting 5 folds for each of 24 candidates, totalling 120 fits\n",
            "[CV 1/5] END criterion=gini, max_depth=10, min_samples_leaf=10;, score=0.966 total time=   0.0s\n",
            "[CV 2/5] END criterion=gini, max_depth=10, min_samples_leaf=10;, score=0.958 total time=   0.0s\n",
            "[CV 3/5] END criterion=gini, max_depth=10, min_samples_leaf=10;, score=0.980 total time=   0.0s\n",
            "[CV 4/5] END criterion=gini, max_depth=10, min_samples_leaf=10;, score=0.944 total time=   0.0s\n",
            "[CV 5/5] END criterion=gini, max_depth=10, min_samples_leaf=10;, score=0.951 total time=   0.0s\n",
            "[CV 1/5] END criterion=gini, max_depth=10, min_samples_leaf=20;, score=0.933 total time=   0.0s\n",
            "[CV 2/5] END criterion=gini, max_depth=10, min_samples_leaf=20;, score=0.945 total time=   0.0s\n",
            "[CV 3/5] END criterion=gini, max_depth=10, min_samples_leaf=20;, score=0.976 total time=   0.0s\n",
            "[CV 4/5] END criterion=gini, max_depth=10, min_samples_leaf=20;, score=0.956 total time=   0.0s\n",
            "[CV 5/5] END criterion=gini, max_depth=10, min_samples_leaf=20;, score=0.982 total time=   0.0s\n",
            "[CV 1/5] END criterion=gini, max_depth=10, min_samples_leaf=50;, score=0.944 total time=   0.0s\n",
            "[CV 2/5] END criterion=gini, max_depth=10, min_samples_leaf=50;, score=0.906 total time=   0.0s\n",
            "[CV 3/5] END criterion=gini, max_depth=10, min_samples_leaf=50;, score=0.971 total time=   0.0s\n",
            "[CV 4/5] END criterion=gini, max_depth=10, min_samples_leaf=50;, score=0.907 total time=   0.0s\n",
            "[CV 5/5] END criterion=gini, max_depth=10, min_samples_leaf=50;, score=0.964 total time=   0.0s\n",
            "[CV 1/5] END criterion=gini, max_depth=20, min_samples_leaf=10;, score=0.963 total time=   0.0s\n",
            "[CV 2/5] END criterion=gini, max_depth=20, min_samples_leaf=10;, score=0.971 total time=   0.0s\n",
            "[CV 3/5] END criterion=gini, max_depth=20, min_samples_leaf=10;, score=0.980 total time=   0.0s\n",
            "[CV 4/5] END criterion=gini, max_depth=20, min_samples_leaf=10;, score=0.944 total time=   0.0s\n",
            "[CV 5/5] END criterion=gini, max_depth=20, min_samples_leaf=10;, score=0.951 total time=   0.0s\n",
            "[CV 1/5] END criterion=gini, max_depth=20, min_samples_leaf=20;, score=0.933 total time=   0.0s\n",
            "[CV 2/5] END criterion=gini, max_depth=20, min_samples_leaf=20;, score=0.933 total time=   0.0s\n",
            "[CV 3/5] END criterion=gini, max_depth=20, min_samples_leaf=20;, score=0.976 total time=   0.0s\n",
            "[CV 4/5] END criterion=gini, max_depth=20, min_samples_leaf=20;, score=0.956 total time=   0.0s\n",
            "[CV 5/5] END criterion=gini, max_depth=20, min_samples_leaf=20;, score=0.982 total time=   0.0s\n",
            "[CV 1/5] END criterion=gini, max_depth=20, min_samples_leaf=50;, score=0.939 total time=   0.0s\n",
            "[CV 2/5] END criterion=gini, max_depth=20, min_samples_leaf=50;, score=0.905 total time=   0.0s\n",
            "[CV 3/5] END criterion=gini, max_depth=20, min_samples_leaf=50;, score=0.971 total time=   0.0s\n",
            "[CV 4/5] END criterion=gini, max_depth=20, min_samples_leaf=50;, score=0.910 total time=   0.0s\n",
            "[CV 5/5] END criterion=gini, max_depth=20, min_samples_leaf=50;, score=0.963 total time=   0.0s\n",
            "[CV 1/5] END criterion=gini, max_depth=50, min_samples_leaf=10;, score=0.963 total time=   0.0s\n",
            "[CV 2/5] END criterion=gini, max_depth=50, min_samples_leaf=10;, score=0.958 total time=   0.0s\n",
            "[CV 3/5] END criterion=gini, max_depth=50, min_samples_leaf=10;, score=0.980 total time=   0.0s\n",
            "[CV 4/5] END criterion=gini, max_depth=50, min_samples_leaf=10;, score=0.943 total time=   0.0s\n",
            "[CV 5/5] END criterion=gini, max_depth=50, min_samples_leaf=10;, score=0.951 total time=   0.0s\n",
            "[CV 1/5] END criterion=gini, max_depth=50, min_samples_leaf=20;, score=0.943 total time=   0.0s\n",
            "[CV 2/5] END criterion=gini, max_depth=50, min_samples_leaf=20;, score=0.939 total time=   0.0s\n",
            "[CV 3/5] END criterion=gini, max_depth=50, min_samples_leaf=20;, score=0.976 total time=   0.0s\n",
            "[CV 4/5] END criterion=gini, max_depth=50, min_samples_leaf=20;, score=0.956 total time=   0.0s\n",
            "[CV 5/5] END criterion=gini, max_depth=50, min_samples_leaf=20;, score=0.982 total time=   0.0s\n",
            "[CV 1/5] END criterion=gini, max_depth=50, min_samples_leaf=50;, score=0.940 total time=   0.0s\n",
            "[CV 2/5] END criterion=gini, max_depth=50, min_samples_leaf=50;, score=0.898 total time=   0.0s\n",
            "[CV 3/5] END criterion=gini, max_depth=50, min_samples_leaf=50;, score=0.971 total time=   0.0s\n",
            "[CV 4/5] END criterion=gini, max_depth=50, min_samples_leaf=50;, score=0.912 total time=   0.0s\n",
            "[CV 5/5] END criterion=gini, max_depth=50, min_samples_leaf=50;, score=0.948 total time=   0.0s\n",
            "[CV 1/5] END criterion=gini, max_depth=100, min_samples_leaf=10;, score=0.964 total time=   0.0s\n",
            "[CV 2/5] END criterion=gini, max_depth=100, min_samples_leaf=10;, score=0.958 total time=   0.0s\n",
            "[CV 3/5] END criterion=gini, max_depth=100, min_samples_leaf=10;, score=0.980 total time=   0.0s\n",
            "[CV 4/5] END criterion=gini, max_depth=100, min_samples_leaf=10;, score=0.944 total time=   0.0s\n",
            "[CV 5/5] END criterion=gini, max_depth=100, min_samples_leaf=10;, score=0.951 total time=   0.0s\n",
            "[CV 1/5] END criterion=gini, max_depth=100, min_samples_leaf=20;, score=0.943 total time=   0.0s\n",
            "[CV 2/5] END criterion=gini, max_depth=100, min_samples_leaf=20;, score=0.952 total time=   0.0s\n",
            "[CV 3/5] END criterion=gini, max_depth=100, min_samples_leaf=20;, score=0.976 total time=   0.0s\n",
            "[CV 4/5] END criterion=gini, max_depth=100, min_samples_leaf=20;, score=0.958 total time=   0.0s\n",
            "[CV 5/5] END criterion=gini, max_depth=100, min_samples_leaf=20;, score=0.982 total time=   0.0s\n",
            "[CV 1/5] END criterion=gini, max_depth=100, min_samples_leaf=50;, score=0.940 total time=   0.0s\n",
            "[CV 2/5] END criterion=gini, max_depth=100, min_samples_leaf=50;, score=0.888 total time=   0.0s\n",
            "[CV 3/5] END criterion=gini, max_depth=100, min_samples_leaf=50;, score=0.971 total time=   0.0s\n",
            "[CV 4/5] END criterion=gini, max_depth=100, min_samples_leaf=50;, score=0.908 total time=   0.0s\n",
            "[CV 5/5] END criterion=gini, max_depth=100, min_samples_leaf=50;, score=0.962 total time=   0.0s\n",
            "[CV 1/5] END criterion=entropy, max_depth=10, min_samples_leaf=10;, score=0.931 total time=   0.0s\n",
            "[CV 2/5] END criterion=entropy, max_depth=10, min_samples_leaf=10;, score=0.929 total time=   0.0s\n",
            "[CV 3/5] END criterion=entropy, max_depth=10, min_samples_leaf=10;, score=0.924 total time=   0.0s\n",
            "[CV 4/5] END criterion=entropy, max_depth=10, min_samples_leaf=10;, score=0.944 total time=   0.0s\n",
            "[CV 5/5] END criterion=entropy, max_depth=10, min_samples_leaf=10;, score=0.989 total time=   0.0s\n",
            "[CV 1/5] END criterion=entropy, max_depth=10, min_samples_leaf=20;, score=0.943 total time=   0.0s\n",
            "[CV 2/5] END criterion=entropy, max_depth=10, min_samples_leaf=20;, score=0.942 total time=   0.0s\n",
            "[CV 3/5] END criterion=entropy, max_depth=10, min_samples_leaf=20;, score=0.976 total time=   0.0s\n",
            "[CV 4/5] END criterion=entropy, max_depth=10, min_samples_leaf=20;, score=0.937 total time=   0.0s\n",
            "[CV 5/5] END criterion=entropy, max_depth=10, min_samples_leaf=20;, score=0.982 total time=   0.0s\n",
            "[CV 1/5] END criterion=entropy, max_depth=10, min_samples_leaf=50;, score=0.940 total time=   0.0s\n",
            "[CV 2/5] END criterion=entropy, max_depth=10, min_samples_leaf=50;, score=0.961 total time=   0.0s\n",
            "[CV 3/5] END criterion=entropy, max_depth=10, min_samples_leaf=50;, score=0.968 total time=   0.0s\n",
            "[CV 4/5] END criterion=entropy, max_depth=10, min_samples_leaf=50;, score=0.945 total time=   0.0s\n",
            "[CV 5/5] END criterion=entropy, max_depth=10, min_samples_leaf=50;, score=0.949 total time=   0.0s\n",
            "[CV 1/5] END criterion=entropy, max_depth=20, min_samples_leaf=10;, score=0.931 total time=   0.0s\n",
            "[CV 2/5] END criterion=entropy, max_depth=20, min_samples_leaf=10;, score=0.929 total time=   0.0s\n",
            "[CV 3/5] END criterion=entropy, max_depth=20, min_samples_leaf=10;, score=0.924 total time=   0.0s\n",
            "[CV 4/5] END criterion=entropy, max_depth=20, min_samples_leaf=10;, score=0.935 total time=   0.0s\n",
            "[CV 5/5] END criterion=entropy, max_depth=20, min_samples_leaf=10;, score=0.961 total time=   0.0s\n",
            "[CV 1/5] END criterion=entropy, max_depth=20, min_samples_leaf=20;, score=0.933 total time=   0.0s\n",
            "[CV 2/5] END criterion=entropy, max_depth=20, min_samples_leaf=20;, score=0.930 total time=   0.0s\n",
            "[CV 3/5] END criterion=entropy, max_depth=20, min_samples_leaf=20;, score=0.976 total time=   0.0s\n",
            "[CV 4/5] END criterion=entropy, max_depth=20, min_samples_leaf=20;, score=0.935 total time=   0.0s\n",
            "[CV 5/5] END criterion=entropy, max_depth=20, min_samples_leaf=20;, score=0.982 total time=   0.0s\n",
            "[CV 1/5] END criterion=entropy, max_depth=20, min_samples_leaf=50;, score=0.940 total time=   0.0s\n",
            "[CV 2/5] END criterion=entropy, max_depth=20, min_samples_leaf=50;, score=0.961 total time=   0.0s\n",
            "[CV 3/5] END criterion=entropy, max_depth=20, min_samples_leaf=50;, score=0.968 total time=   0.0s\n",
            "[CV 4/5] END criterion=entropy, max_depth=20, min_samples_leaf=50;, score=0.942 total time=   0.0s\n",
            "[CV 5/5] END criterion=entropy, max_depth=20, min_samples_leaf=50;, score=0.961 total time=   0.0s\n",
            "[CV 1/5] END criterion=entropy, max_depth=50, min_samples_leaf=10;, score=0.931 total time=   0.0s\n",
            "[CV 2/5] END criterion=entropy, max_depth=50, min_samples_leaf=10;, score=0.929 total time=   0.0s\n",
            "[CV 3/5] END criterion=entropy, max_depth=50, min_samples_leaf=10;, score=0.924 total time=   0.0s\n",
            "[CV 4/5] END criterion=entropy, max_depth=50, min_samples_leaf=10;, score=0.955 total time=   0.0s\n",
            "[CV 5/5] END criterion=entropy, max_depth=50, min_samples_leaf=10;, score=0.989 total time=   0.1s\n",
            "[CV 1/5] END criterion=entropy, max_depth=50, min_samples_leaf=20;, score=0.943 total time=   0.0s\n",
            "[CV 2/5] END criterion=entropy, max_depth=50, min_samples_leaf=20;, score=0.930 total time=   0.0s\n",
            "[CV 3/5] END criterion=entropy, max_depth=50, min_samples_leaf=20;, score=0.976 total time=   0.0s\n",
            "[CV 4/5] END criterion=entropy, max_depth=50, min_samples_leaf=20;, score=0.942 total time=   0.0s\n",
            "[CV 5/5] END criterion=entropy, max_depth=50, min_samples_leaf=20;, score=0.982 total time=   0.0s\n",
            "[CV 1/5] END criterion=entropy, max_depth=50, min_samples_leaf=50;, score=0.944 total time=   0.1s\n",
            "[CV 2/5] END criterion=entropy, max_depth=50, min_samples_leaf=50;, score=0.961 total time=   0.0s\n",
            "[CV 3/5] END criterion=entropy, max_depth=50, min_samples_leaf=50;, score=0.949 total time=   0.0s\n",
            "[CV 4/5] END criterion=entropy, max_depth=50, min_samples_leaf=50;, score=0.943 total time=   0.0s\n",
            "[CV 5/5] END criterion=entropy, max_depth=50, min_samples_leaf=50;, score=0.965 total time=   0.0s\n",
            "[CV 1/5] END criterion=entropy, max_depth=100, min_samples_leaf=10;, score=0.932 total time=   0.0s\n",
            "[CV 2/5] END criterion=entropy, max_depth=100, min_samples_leaf=10;, score=0.929 total time=   0.0s\n",
            "[CV 3/5] END criterion=entropy, max_depth=100, min_samples_leaf=10;, score=0.924 total time=   0.0s\n",
            "[CV 4/5] END criterion=entropy, max_depth=100, min_samples_leaf=10;, score=0.930 total time=   0.0s\n",
            "[CV 5/5] END criterion=entropy, max_depth=100, min_samples_leaf=10;, score=0.961 total time=   0.0s\n",
            "[CV 1/5] END criterion=entropy, max_depth=100, min_samples_leaf=20;, score=0.943 total time=   0.0s\n",
            "[CV 2/5] END criterion=entropy, max_depth=100, min_samples_leaf=20;, score=0.955 total time=   0.0s\n",
            "[CV 3/5] END criterion=entropy, max_depth=100, min_samples_leaf=20;, score=0.976 total time=   0.0s\n",
            "[CV 4/5] END criterion=entropy, max_depth=100, min_samples_leaf=20;, score=0.941 total time=   0.0s\n",
            "[CV 5/5] END criterion=entropy, max_depth=100, min_samples_leaf=20;, score=0.982 total time=   0.0s\n",
            "[CV 1/5] END criterion=entropy, max_depth=100, min_samples_leaf=50;, score=0.947 total time=   0.0s\n",
            "[CV 2/5] END criterion=entropy, max_depth=100, min_samples_leaf=50;, score=0.961 total time=   0.0s\n",
            "[CV 3/5] END criterion=entropy, max_depth=100, min_samples_leaf=50;, score=0.965 total time=   0.0s\n",
            "[CV 4/5] END criterion=entropy, max_depth=100, min_samples_leaf=50;, score=0.943 total time=   0.0s\n",
            "[CV 5/5] END criterion=entropy, max_depth=100, min_samples_leaf=50;, score=0.948 total time=   0.0s\n"
          ]
        },
        {
          "output_type": "execute_result",
          "data": {
            "text/plain": [
              "GridSearchCV(estimator=DecisionTreeClassifier(),\n",
              "             param_grid={'criterion': ['gini', 'entropy'],\n",
              "                         'max_depth': [10, 20, 50, 100],\n",
              "                         'min_samples_leaf': [10, 20, 50]},\n",
              "             scoring='roc_auc', verbose=5)"
            ]
          },
          "metadata": {},
          "execution_count": 39
        }
      ],
      "source": [
        "clf = DecisionTreeClassifier()\n",
        "\n",
        "#Tuning the hyperparameters of the Decision tree model\n",
        "dt_tuned_parameters = {'criterion':['gini','entropy'],'max_depth':[10,20,50,100],'min_samples_leaf':[10, 20, 50]}\n",
        "\n",
        "#Fitting the model\n",
        "cv_grid = GridSearchCV(clf, param_grid = dt_tuned_parameters, scoring = 'roc_auc', verbose = 5) \n",
        "cv_grid.fit(X_train, y_train)"
      ]
    },
    {
      "cell_type": "code",
      "execution_count": 40,
      "metadata": {
        "colab": {
          "base_uri": "https://localhost:8080/"
        },
        "id": "LSDK5dX53rEh",
        "outputId": "7b27b8cc-99c1-46ae-ae29-9bfcc16b7ed7"
      },
      "outputs": [
        {
          "output_type": "execute_result",
          "data": {
            "text/plain": [
              "{'mean_fit_time': array([0.00554209, 0.00501809, 0.00436139, 0.01637173, 0.01603966,\n",
              "        0.01729293, 0.01212626, 0.00714569, 0.00426068, 0.0063693 ,\n",
              "        0.0051589 , 0.00422792, 0.00786672, 0.00696802, 0.00657454,\n",
              "        0.00640774, 0.00660801, 0.00537214, 0.01530175, 0.02157583,\n",
              "        0.02635627, 0.02514181, 0.01650834, 0.00507154]),\n",
              " 'std_fit_time': array([0.00025605, 0.000148  , 0.00016809, 0.00673807, 0.00077197,\n",
              "        0.00628745, 0.00761601, 0.00296657, 0.00047773, 0.00069622,\n",
              "        0.00022979, 0.00010768, 0.00133557, 0.00028472, 0.0018627 ,\n",
              "        0.00030832, 0.00043539, 0.00017637, 0.01732225, 0.00214693,\n",
              "        0.00814322, 0.00675629, 0.00790192, 0.00046063]),\n",
              " 'mean_score_time': array([0.00178471, 0.00165973, 0.00169415, 0.00656853, 0.00469975,\n",
              "        0.00457921, 0.00662012, 0.00270371, 0.00658174, 0.00195689,\n",
              "        0.00163269, 0.00158682, 0.00181365, 0.00186367, 0.00191536,\n",
              "        0.00182743, 0.00177984, 0.00173469, 0.00302873, 0.01416206,\n",
              "        0.00515513, 0.0028338 , 0.00526829, 0.0018137 ]),\n",
              " 'std_score_time': array([1.54315777e-04, 1.16826622e-04, 1.00269161e-04, 5.18107773e-03,\n",
              "        3.93532420e-03, 2.35938937e-03, 4.78127689e-03, 1.11829283e-04,\n",
              "        4.11688793e-03, 4.60786855e-04, 1.29042214e-04, 4.12067322e-05,\n",
              "        2.65942305e-04, 2.34821043e-04, 3.12060780e-04, 1.76642097e-04,\n",
              "        1.71348591e-04, 1.09292325e-04, 2.51078540e-03, 1.64412293e-03,\n",
              "        4.95317570e-03, 2.06405859e-04, 3.91093448e-03, 1.93946232e-04]),\n",
              " 'param_criterion': masked_array(data=['gini', 'gini', 'gini', 'gini', 'gini', 'gini', 'gini',\n",
              "                    'gini', 'gini', 'gini', 'gini', 'gini', 'entropy',\n",
              "                    'entropy', 'entropy', 'entropy', 'entropy', 'entropy',\n",
              "                    'entropy', 'entropy', 'entropy', 'entropy', 'entropy',\n",
              "                    'entropy'],\n",
              "              mask=[False, False, False, False, False, False, False, False,\n",
              "                    False, False, False, False, False, False, False, False,\n",
              "                    False, False, False, False, False, False, False, False],\n",
              "        fill_value='?',\n",
              "             dtype=object),\n",
              " 'param_max_depth': masked_array(data=[10, 10, 10, 20, 20, 20, 50, 50, 50, 100, 100, 100, 10,\n",
              "                    10, 10, 20, 20, 20, 50, 50, 50, 100, 100, 100],\n",
              "              mask=[False, False, False, False, False, False, False, False,\n",
              "                    False, False, False, False, False, False, False, False,\n",
              "                    False, False, False, False, False, False, False, False],\n",
              "        fill_value='?',\n",
              "             dtype=object),\n",
              " 'param_min_samples_leaf': masked_array(data=[10, 20, 50, 10, 20, 50, 10, 20, 50, 10, 20, 50, 10, 20,\n",
              "                    50, 10, 20, 50, 10, 20, 50, 10, 20, 50],\n",
              "              mask=[False, False, False, False, False, False, False, False,\n",
              "                    False, False, False, False, False, False, False, False,\n",
              "                    False, False, False, False, False, False, False, False],\n",
              "        fill_value='?',\n",
              "             dtype=object),\n",
              " 'params': [{'criterion': 'gini', 'max_depth': 10, 'min_samples_leaf': 10},\n",
              "  {'criterion': 'gini', 'max_depth': 10, 'min_samples_leaf': 20},\n",
              "  {'criterion': 'gini', 'max_depth': 10, 'min_samples_leaf': 50},\n",
              "  {'criterion': 'gini', 'max_depth': 20, 'min_samples_leaf': 10},\n",
              "  {'criterion': 'gini', 'max_depth': 20, 'min_samples_leaf': 20},\n",
              "  {'criterion': 'gini', 'max_depth': 20, 'min_samples_leaf': 50},\n",
              "  {'criterion': 'gini', 'max_depth': 50, 'min_samples_leaf': 10},\n",
              "  {'criterion': 'gini', 'max_depth': 50, 'min_samples_leaf': 20},\n",
              "  {'criterion': 'gini', 'max_depth': 50, 'min_samples_leaf': 50},\n",
              "  {'criterion': 'gini', 'max_depth': 100, 'min_samples_leaf': 10},\n",
              "  {'criterion': 'gini', 'max_depth': 100, 'min_samples_leaf': 20},\n",
              "  {'criterion': 'gini', 'max_depth': 100, 'min_samples_leaf': 50},\n",
              "  {'criterion': 'entropy', 'max_depth': 10, 'min_samples_leaf': 10},\n",
              "  {'criterion': 'entropy', 'max_depth': 10, 'min_samples_leaf': 20},\n",
              "  {'criterion': 'entropy', 'max_depth': 10, 'min_samples_leaf': 50},\n",
              "  {'criterion': 'entropy', 'max_depth': 20, 'min_samples_leaf': 10},\n",
              "  {'criterion': 'entropy', 'max_depth': 20, 'min_samples_leaf': 20},\n",
              "  {'criterion': 'entropy', 'max_depth': 20, 'min_samples_leaf': 50},\n",
              "  {'criterion': 'entropy', 'max_depth': 50, 'min_samples_leaf': 10},\n",
              "  {'criterion': 'entropy', 'max_depth': 50, 'min_samples_leaf': 20},\n",
              "  {'criterion': 'entropy', 'max_depth': 50, 'min_samples_leaf': 50},\n",
              "  {'criterion': 'entropy', 'max_depth': 100, 'min_samples_leaf': 10},\n",
              "  {'criterion': 'entropy', 'max_depth': 100, 'min_samples_leaf': 20},\n",
              "  {'criterion': 'entropy', 'max_depth': 100, 'min_samples_leaf': 50}],\n",
              " 'split0_test_score': array([0.96576695, 0.93285056, 0.9443713 , 0.9634628 , 0.93285056,\n",
              "        0.93943384, 0.9634628 , 0.94305464, 0.94042133, 0.96412113,\n",
              "        0.94305464, 0.94042133, 0.93054641, 0.94305464, 0.94042133,\n",
              "        0.93120474, 0.93285056, 0.94042133, 0.93054641, 0.94305464,\n",
              "        0.9443713 , 0.93186307, 0.94305464, 0.94733377]),\n",
              " 'split1_test_score': array([0.95753785, 0.94470046, 0.90585912, 0.97136274, 0.9325214 ,\n",
              "        0.90454246, 0.95753785, 0.93910467, 0.89828835, 0.95786702,\n",
              "        0.9516129 , 0.88841343, 0.92922976, 0.94206715, 0.96082949,\n",
              "        0.92922976, 0.92988808, 0.96082949, 0.92922976, 0.92988808,\n",
              "        0.96082949, 0.92922976, 0.95490454, 0.96082949]),\n",
              " 'split2_test_score': array([0.97966667, 0.97633333, 0.97066667, 0.97966667, 0.97633333,\n",
              "        0.97066667, 0.97966667, 0.97633333, 0.97066667, 0.97966667,\n",
              "        0.97633333, 0.97066667, 0.924     , 0.97566667, 0.968     ,\n",
              "        0.924     , 0.97566667, 0.968     , 0.924     , 0.97566667,\n",
              "        0.94933333, 0.924     , 0.97566667, 0.96533333]),\n",
              " 'split3_test_score': array([0.94421769, 0.95646259, 0.90748299, 0.94421769, 0.95646259,\n",
              "        0.90986395, 0.94285714, 0.95646259, 0.91156463, 0.94421769,\n",
              "        0.95782313, 0.90782313, 0.94387755, 0.93673469, 0.94489796,\n",
              "        0.93537415, 0.93537415, 0.94217687, 0.95510204, 0.94217687,\n",
              "        0.94285714, 0.93027211, 0.94115646, 0.94285714]),\n",
              " 'split4_test_score': array([0.95136054, 0.98231293, 0.96360544, 0.95136054, 0.98231293,\n",
              "        0.96292517, 0.95136054, 0.98231293, 0.94761905, 0.95136054,\n",
              "        0.98231293, 0.96156463, 0.98877551, 0.98231293, 0.94931973,\n",
              "        0.96122449, 0.98231293, 0.96122449, 0.98877551, 0.98231293,\n",
              "        0.96496599, 0.96122449, 0.98231293, 0.94829932]),\n",
              " 'mean_test_score': array([0.95970994, 0.95853197, 0.9383971 , 0.96201409, 0.95609616,\n",
              "        0.93748642, 0.958977  , 0.95945363, 0.933712  , 0.95944661,\n",
              "        0.96222739, 0.93377784, 0.94328585, 0.95596722, 0.9526937 ,\n",
              "        0.93620663, 0.95121848, 0.95453044, 0.94553074, 0.95461984,\n",
              "        0.95247145, 0.93531788, 0.95941905, 0.95293061]),\n",
              " 'std_test_score': array([0.01224254, 0.01864162, 0.02730157, 0.01289434, 0.02094337,\n",
              "        0.0268334 , 0.01239448, 0.01731719, 0.02588208, 0.0120872 ,\n",
              "        0.01484632, 0.03133242, 0.02367053, 0.01903681, 0.01022978,\n",
              "        0.01303291, 0.02283851, 0.01111391, 0.02414765, 0.02054321,\n",
              "        0.00887542, 0.01321898, 0.01679173, 0.00860776]),\n",
              " 'rank_test_score': array([ 3,  8, 19,  2,  9, 20,  7,  4, 24,  5,  1, 23, 18, 10, 14, 21, 16,\n",
              "        12, 17, 11, 15, 22,  6, 13], dtype=int32)}"
            ]
          },
          "metadata": {},
          "execution_count": 40
        }
      ],
      "source": [
        "cv_grid.cv_results_"
      ]
    },
    {
      "cell_type": "code",
      "execution_count": 41,
      "metadata": {
        "colab": {
          "base_uri": "https://localhost:8080/"
        },
        "id": "OtfXcNdc3fk3",
        "outputId": "d23ed555-dc66-499b-bcd5-2614f5f418bd"
      },
      "outputs": [
        {
          "output_type": "execute_result",
          "data": {
            "text/plain": [
              "{'ccp_alpha': 0.0,\n",
              " 'class_weight': None,\n",
              " 'criterion': 'gini',\n",
              " 'max_depth': 100,\n",
              " 'max_features': None,\n",
              " 'max_leaf_nodes': None,\n",
              " 'min_impurity_decrease': 0.0,\n",
              " 'min_samples_leaf': 20,\n",
              " 'min_samples_split': 2,\n",
              " 'min_weight_fraction_leaf': 0.0,\n",
              " 'random_state': None,\n",
              " 'splitter': 'best'}"
            ]
          },
          "metadata": {},
          "execution_count": 41
        }
      ],
      "source": [
        "best_parameters = cv_grid.best_estimator_.get_params()\n",
        "best_parameters"
      ]
    },
    {
      "cell_type": "markdown",
      "metadata": {
        "id": "F_gjUnoi5-G6"
      },
      "source": [
        "#### With OverSampling"
      ]
    },
    {
      "cell_type": "code",
      "execution_count": 42,
      "metadata": {
        "colab": {
          "base_uri": "https://localhost:8080/"
        },
        "id": "cX4QZjnf6DyG",
        "outputId": "1ffab797-5a94-409e-a12f-e0e82f8049db"
      },
      "outputs": [
        {
          "output_type": "stream",
          "name": "stdout",
          "text": [
            "Fitting 5 folds for each of 24 candidates, totalling 120 fits\n",
            "[CV 1/5] END criterion=gini, max_depth=10, min_samples_leaf=10;, score=0.952 total time=   0.0s\n",
            "[CV 2/5] END criterion=gini, max_depth=10, min_samples_leaf=10;, score=0.963 total time=   0.0s\n",
            "[CV 3/5] END criterion=gini, max_depth=10, min_samples_leaf=10;, score=0.994 total time=   0.0s\n",
            "[CV 4/5] END criterion=gini, max_depth=10, min_samples_leaf=10;, score=0.984 total time=   0.0s\n",
            "[CV 5/5] END criterion=gini, max_depth=10, min_samples_leaf=10;, score=0.966 total time=   0.0s\n",
            "[CV 1/5] END criterion=gini, max_depth=10, min_samples_leaf=20;, score=0.953 total time=   0.0s\n",
            "[CV 2/5] END criterion=gini, max_depth=10, min_samples_leaf=20;, score=0.971 total time=   0.0s\n",
            "[CV 3/5] END criterion=gini, max_depth=10, min_samples_leaf=20;, score=0.993 total time=   0.0s\n",
            "[CV 4/5] END criterion=gini, max_depth=10, min_samples_leaf=20;, score=0.962 total time=   0.0s\n",
            "[CV 5/5] END criterion=gini, max_depth=10, min_samples_leaf=20;, score=0.973 total time=   0.0s\n",
            "[CV 1/5] END criterion=gini, max_depth=10, min_samples_leaf=50;, score=0.956 total time=   0.0s\n",
            "[CV 2/5] END criterion=gini, max_depth=10, min_samples_leaf=50;, score=0.959 total time=   0.0s\n",
            "[CV 3/5] END criterion=gini, max_depth=10, min_samples_leaf=50;, score=0.983 total time=   0.0s\n",
            "[CV 4/5] END criterion=gini, max_depth=10, min_samples_leaf=50;, score=0.957 total time=   0.0s\n",
            "[CV 5/5] END criterion=gini, max_depth=10, min_samples_leaf=50;, score=0.970 total time=   0.0s\n",
            "[CV 1/5] END criterion=gini, max_depth=20, min_samples_leaf=10;, score=0.952 total time=   0.0s\n",
            "[CV 2/5] END criterion=gini, max_depth=20, min_samples_leaf=10;, score=0.969 total time=   0.0s\n",
            "[CV 3/5] END criterion=gini, max_depth=20, min_samples_leaf=10;, score=0.994 total time=   0.0s\n",
            "[CV 4/5] END criterion=gini, max_depth=20, min_samples_leaf=10;, score=0.984 total time=   0.0s\n",
            "[CV 5/5] END criterion=gini, max_depth=20, min_samples_leaf=10;, score=0.964 total time=   0.0s\n",
            "[CV 1/5] END criterion=gini, max_depth=20, min_samples_leaf=20;, score=0.953 total time=   0.0s\n",
            "[CV 2/5] END criterion=gini, max_depth=20, min_samples_leaf=20;, score=0.974 total time=   0.0s\n",
            "[CV 3/5] END criterion=gini, max_depth=20, min_samples_leaf=20;, score=0.993 total time=   0.0s\n",
            "[CV 4/5] END criterion=gini, max_depth=20, min_samples_leaf=20;, score=0.962 total time=   0.0s\n",
            "[CV 5/5] END criterion=gini, max_depth=20, min_samples_leaf=20;, score=0.973 total time=   0.0s\n",
            "[CV 1/5] END criterion=gini, max_depth=20, min_samples_leaf=50;, score=0.952 total time=   0.0s\n",
            "[CV 2/5] END criterion=gini, max_depth=20, min_samples_leaf=50;, score=0.959 total time=   0.0s\n",
            "[CV 3/5] END criterion=gini, max_depth=20, min_samples_leaf=50;, score=0.983 total time=   0.0s\n",
            "[CV 4/5] END criterion=gini, max_depth=20, min_samples_leaf=50;, score=0.957 total time=   0.0s\n",
            "[CV 5/5] END criterion=gini, max_depth=20, min_samples_leaf=50;, score=0.970 total time=   0.0s\n",
            "[CV 1/5] END criterion=gini, max_depth=50, min_samples_leaf=10;, score=0.952 total time=   0.0s\n",
            "[CV 2/5] END criterion=gini, max_depth=50, min_samples_leaf=10;, score=0.956 total time=   0.0s\n",
            "[CV 3/5] END criterion=gini, max_depth=50, min_samples_leaf=10;, score=0.994 total time=   0.0s\n",
            "[CV 4/5] END criterion=gini, max_depth=50, min_samples_leaf=10;, score=0.984 total time=   0.0s\n",
            "[CV 5/5] END criterion=gini, max_depth=50, min_samples_leaf=10;, score=0.964 total time=   0.0s\n",
            "[CV 1/5] END criterion=gini, max_depth=50, min_samples_leaf=20;, score=0.964 total time=   0.0s\n",
            "[CV 2/5] END criterion=gini, max_depth=50, min_samples_leaf=20;, score=0.971 total time=   0.0s\n",
            "[CV 3/5] END criterion=gini, max_depth=50, min_samples_leaf=20;, score=0.993 total time=   0.0s\n",
            "[CV 4/5] END criterion=gini, max_depth=50, min_samples_leaf=20;, score=0.974 total time=   0.0s\n",
            "[CV 5/5] END criterion=gini, max_depth=50, min_samples_leaf=20;, score=0.973 total time=   0.0s\n",
            "[CV 1/5] END criterion=gini, max_depth=50, min_samples_leaf=50;, score=0.947 total time=   0.0s\n",
            "[CV 2/5] END criterion=gini, max_depth=50, min_samples_leaf=50;, score=0.959 total time=   0.0s\n",
            "[CV 3/5] END criterion=gini, max_depth=50, min_samples_leaf=50;, score=0.983 total time=   0.0s\n",
            "[CV 4/5] END criterion=gini, max_depth=50, min_samples_leaf=50;, score=0.956 total time=   0.0s\n",
            "[CV 5/5] END criterion=gini, max_depth=50, min_samples_leaf=50;, score=0.970 total time=   0.0s\n",
            "[CV 1/5] END criterion=gini, max_depth=100, min_samples_leaf=10;, score=0.952 total time=   0.0s\n",
            "[CV 2/5] END criterion=gini, max_depth=100, min_samples_leaf=10;, score=0.969 total time=   0.0s\n",
            "[CV 3/5] END criterion=gini, max_depth=100, min_samples_leaf=10;, score=0.994 total time=   0.0s\n",
            "[CV 4/5] END criterion=gini, max_depth=100, min_samples_leaf=10;, score=0.984 total time=   0.0s\n",
            "[CV 5/5] END criterion=gini, max_depth=100, min_samples_leaf=10;, score=0.966 total time=   0.0s\n",
            "[CV 1/5] END criterion=gini, max_depth=100, min_samples_leaf=20;, score=0.949 total time=   0.0s\n",
            "[CV 2/5] END criterion=gini, max_depth=100, min_samples_leaf=20;, score=0.968 total time=   0.0s\n",
            "[CV 3/5] END criterion=gini, max_depth=100, min_samples_leaf=20;, score=0.993 total time=   0.0s\n",
            "[CV 4/5] END criterion=gini, max_depth=100, min_samples_leaf=20;, score=0.962 total time=   0.0s\n",
            "[CV 5/5] END criterion=gini, max_depth=100, min_samples_leaf=20;, score=0.973 total time=   0.0s\n",
            "[CV 1/5] END criterion=gini, max_depth=100, min_samples_leaf=50;, score=0.962 total time=   0.0s\n",
            "[CV 2/5] END criterion=gini, max_depth=100, min_samples_leaf=50;, score=0.959 total time=   0.0s\n",
            "[CV 3/5] END criterion=gini, max_depth=100, min_samples_leaf=50;, score=0.983 total time=   0.0s\n",
            "[CV 4/5] END criterion=gini, max_depth=100, min_samples_leaf=50;, score=0.957 total time=   0.0s\n",
            "[CV 5/5] END criterion=gini, max_depth=100, min_samples_leaf=50;, score=0.970 total time=   0.0s\n",
            "[CV 1/5] END criterion=entropy, max_depth=10, min_samples_leaf=10;, score=0.953 total time=   0.0s\n",
            "[CV 2/5] END criterion=entropy, max_depth=10, min_samples_leaf=10;, score=0.943 total time=   0.0s\n",
            "[CV 3/5] END criterion=entropy, max_depth=10, min_samples_leaf=10;, score=0.990 total time=   0.0s\n",
            "[CV 4/5] END criterion=entropy, max_depth=10, min_samples_leaf=10;, score=0.971 total time=   0.0s\n",
            "[CV 5/5] END criterion=entropy, max_depth=10, min_samples_leaf=10;, score=0.996 total time=   0.0s\n",
            "[CV 1/5] END criterion=entropy, max_depth=10, min_samples_leaf=20;, score=0.964 total time=   0.0s\n",
            "[CV 2/5] END criterion=entropy, max_depth=10, min_samples_leaf=20;, score=0.939 total time=   0.0s\n",
            "[CV 3/5] END criterion=entropy, max_depth=10, min_samples_leaf=20;, score=0.990 total time=   0.0s\n",
            "[CV 4/5] END criterion=entropy, max_depth=10, min_samples_leaf=20;, score=0.966 total time=   0.0s\n",
            "[CV 5/5] END criterion=entropy, max_depth=10, min_samples_leaf=20;, score=0.996 total time=   0.0s\n",
            "[CV 1/5] END criterion=entropy, max_depth=10, min_samples_leaf=50;, score=0.928 total time=   0.0s\n",
            "[CV 2/5] END criterion=entropy, max_depth=10, min_samples_leaf=50;, score=0.959 total time=   0.0s\n",
            "[CV 3/5] END criterion=entropy, max_depth=10, min_samples_leaf=50;, score=0.982 total time=   0.0s\n",
            "[CV 4/5] END criterion=entropy, max_depth=10, min_samples_leaf=50;, score=0.961 total time=   0.0s\n",
            "[CV 5/5] END criterion=entropy, max_depth=10, min_samples_leaf=50;, score=0.970 total time=   0.0s\n",
            "[CV 1/5] END criterion=entropy, max_depth=20, min_samples_leaf=10;, score=0.952 total time=   0.0s\n",
            "[CV 2/5] END criterion=entropy, max_depth=20, min_samples_leaf=10;, score=0.943 total time=   0.0s\n",
            "[CV 3/5] END criterion=entropy, max_depth=20, min_samples_leaf=10;, score=0.990 total time=   0.0s\n",
            "[CV 4/5] END criterion=entropy, max_depth=20, min_samples_leaf=10;, score=0.988 total time=   0.0s\n",
            "[CV 5/5] END criterion=entropy, max_depth=20, min_samples_leaf=10;, score=0.996 total time=   0.0s\n",
            "[CV 1/5] END criterion=entropy, max_depth=20, min_samples_leaf=20;, score=0.967 total time=   0.0s\n",
            "[CV 2/5] END criterion=entropy, max_depth=20, min_samples_leaf=20;, score=0.937 total time=   0.0s\n",
            "[CV 3/5] END criterion=entropy, max_depth=20, min_samples_leaf=20;, score=0.990 total time=   0.0s\n",
            "[CV 4/5] END criterion=entropy, max_depth=20, min_samples_leaf=20;, score=0.966 total time=   0.0s\n",
            "[CV 5/5] END criterion=entropy, max_depth=20, min_samples_leaf=20;, score=0.996 total time=   0.0s\n",
            "[CV 1/5] END criterion=entropy, max_depth=20, min_samples_leaf=50;, score=0.928 total time=   0.0s\n",
            "[CV 2/5] END criterion=entropy, max_depth=20, min_samples_leaf=50;, score=0.959 total time=   0.0s\n",
            "[CV 3/5] END criterion=entropy, max_depth=20, min_samples_leaf=50;, score=0.984 total time=   0.0s\n",
            "[CV 4/5] END criterion=entropy, max_depth=20, min_samples_leaf=50;, score=0.955 total time=   0.0s\n",
            "[CV 5/5] END criterion=entropy, max_depth=20, min_samples_leaf=50;, score=0.970 total time=   0.0s\n",
            "[CV 1/5] END criterion=entropy, max_depth=50, min_samples_leaf=10;, score=0.952 total time=   0.0s\n",
            "[CV 2/5] END criterion=entropy, max_depth=50, min_samples_leaf=10;, score=0.943 total time=   0.0s\n",
            "[CV 3/5] END criterion=entropy, max_depth=50, min_samples_leaf=10;, score=0.990 total time=   0.0s\n",
            "[CV 4/5] END criterion=entropy, max_depth=50, min_samples_leaf=10;, score=0.990 total time=   0.0s\n",
            "[CV 5/5] END criterion=entropy, max_depth=50, min_samples_leaf=10;, score=0.996 total time=   0.0s\n",
            "[CV 1/5] END criterion=entropy, max_depth=50, min_samples_leaf=20;, score=0.967 total time=   0.0s\n",
            "[CV 2/5] END criterion=entropy, max_depth=50, min_samples_leaf=20;, score=0.937 total time=   0.0s\n",
            "[CV 3/5] END criterion=entropy, max_depth=50, min_samples_leaf=20;, score=0.990 total time=   0.0s\n",
            "[CV 4/5] END criterion=entropy, max_depth=50, min_samples_leaf=20;, score=0.966 total time=   0.0s\n",
            "[CV 5/5] END criterion=entropy, max_depth=50, min_samples_leaf=20;, score=0.996 total time=   0.0s\n",
            "[CV 1/5] END criterion=entropy, max_depth=50, min_samples_leaf=50;, score=0.928 total time=   0.0s\n",
            "[CV 2/5] END criterion=entropy, max_depth=50, min_samples_leaf=50;, score=0.959 total time=   0.0s\n",
            "[CV 3/5] END criterion=entropy, max_depth=50, min_samples_leaf=50;, score=0.983 total time=   0.0s\n",
            "[CV 4/5] END criterion=entropy, max_depth=50, min_samples_leaf=50;, score=0.955 total time=   0.0s\n",
            "[CV 5/5] END criterion=entropy, max_depth=50, min_samples_leaf=50;, score=0.970 total time=   0.0s\n",
            "[CV 1/5] END criterion=entropy, max_depth=100, min_samples_leaf=10;, score=0.952 total time=   0.0s\n",
            "[CV 2/5] END criterion=entropy, max_depth=100, min_samples_leaf=10;, score=0.943 total time=   0.0s\n",
            "[CV 3/5] END criterion=entropy, max_depth=100, min_samples_leaf=10;, score=0.990 total time=   0.0s\n",
            "[CV 4/5] END criterion=entropy, max_depth=100, min_samples_leaf=10;, score=0.989 total time=   0.0s\n",
            "[CV 5/5] END criterion=entropy, max_depth=100, min_samples_leaf=10;, score=0.996 total time=   0.0s\n",
            "[CV 1/5] END criterion=entropy, max_depth=100, min_samples_leaf=20;, score=0.967 total time=   0.0s\n",
            "[CV 2/5] END criterion=entropy, max_depth=100, min_samples_leaf=20;, score=0.939 total time=   0.0s\n",
            "[CV 3/5] END criterion=entropy, max_depth=100, min_samples_leaf=20;, score=0.990 total time=   0.0s\n",
            "[CV 4/5] END criterion=entropy, max_depth=100, min_samples_leaf=20;, score=0.966 total time=   0.0s\n",
            "[CV 5/5] END criterion=entropy, max_depth=100, min_samples_leaf=20;, score=0.996 total time=   0.0s\n",
            "[CV 1/5] END criterion=entropy, max_depth=100, min_samples_leaf=50;, score=0.928 total time=   0.0s\n",
            "[CV 2/5] END criterion=entropy, max_depth=100, min_samples_leaf=50;, score=0.959 total time=   0.0s\n",
            "[CV 3/5] END criterion=entropy, max_depth=100, min_samples_leaf=50;, score=0.984 total time=   0.0s\n",
            "[CV 4/5] END criterion=entropy, max_depth=100, min_samples_leaf=50;, score=0.955 total time=   0.0s\n",
            "[CV 5/5] END criterion=entropy, max_depth=100, min_samples_leaf=50;, score=0.970 total time=   0.0s\n"
          ]
        },
        {
          "output_type": "execute_result",
          "data": {
            "text/plain": [
              "GridSearchCV(estimator=DecisionTreeClassifier(),\n",
              "             param_grid={'criterion': ['gini', 'entropy'],\n",
              "                         'max_depth': [10, 20, 50, 100],\n",
              "                         'min_samples_leaf': [10, 20, 50]},\n",
              "             scoring='roc_auc', verbose=5)"
            ]
          },
          "metadata": {},
          "execution_count": 42
        }
      ],
      "source": [
        "clf = DecisionTreeClassifier()\n",
        "\n",
        "#Tuning the hyperparameters of the Decision tree model\n",
        "dt_tuned_parameters = {'criterion':['gini','entropy'],'max_depth':[10,20,50,100],'min_samples_leaf':[10, 20, 50]}\n",
        "\n",
        "#Fitting the model\n",
        "cv_grid_oversampled = GridSearchCV(clf, param_grid = dt_tuned_parameters, scoring = 'roc_auc', verbose = 5) \n",
        "cv_grid_oversampled.fit(X_train_res, y_train_res)"
      ]
    },
    {
      "cell_type": "code",
      "execution_count": 43,
      "metadata": {
        "colab": {
          "base_uri": "https://localhost:8080/"
        },
        "id": "vbmQHNZd6MJL",
        "outputId": "3bae9ae0-a354-4fd9-f7dc-e32173a8e2c6"
      },
      "outputs": [
        {
          "output_type": "execute_result",
          "data": {
            "text/plain": [
              "{'mean_fit_time': array([0.00660648, 0.00508876, 0.00393057, 0.00553107, 0.00557461,\n",
              "        0.0040194 , 0.00567784, 0.00515876, 0.00391397, 0.00567999,\n",
              "        0.00525708, 0.00413475, 0.00753341, 0.00673981, 0.00519757,\n",
              "        0.00805235, 0.00829859, 0.00502181, 0.00761256, 0.00655208,\n",
              "        0.00531836, 0.00770679, 0.00676827, 0.00522814]),\n",
              " 'std_fit_time': array([2.43799813e-03, 2.46418279e-04, 1.43377409e-04, 1.80076970e-04,\n",
              "        7.10815613e-04, 5.92951380e-04, 2.69150378e-04, 1.98671419e-04,\n",
              "        1.35079189e-04, 2.96807771e-04, 4.28912609e-04, 3.22763728e-04,\n",
              "        5.88626388e-04, 3.07218207e-04, 2.21484695e-04, 1.01811271e-03,\n",
              "        1.43406314e-03, 4.30591531e-04, 5.23937326e-04, 3.21377371e-04,\n",
              "        5.54884921e-04, 5.81522154e-04, 2.71869717e-04, 8.57370714e-05]),\n",
              " 'mean_score_time': array([0.00146341, 0.00146527, 0.00127444, 0.00135245, 0.00183411,\n",
              "        0.0014905 , 0.00136781, 0.00138226, 0.00135126, 0.00136008,\n",
              "        0.00150051, 0.00163426, 0.00151939, 0.00142355, 0.00133228,\n",
              "        0.00163894, 0.00204797, 0.00145903, 0.00149665, 0.00138335,\n",
              "        0.00157976, 0.00149441, 0.00146065, 0.00141153]),\n",
              " 'std_score_time': array([1.44994803e-04, 1.86903281e-04, 1.72919064e-05, 4.03421145e-05,\n",
              "        6.78785900e-04, 2.29381800e-04, 2.28065784e-05, 4.15266309e-05,\n",
              "        6.76995590e-05, 3.64316071e-05, 1.36111294e-04, 2.61685374e-04,\n",
              "        1.72268892e-04, 4.59007223e-05, 5.10912713e-05, 3.26752585e-04,\n",
              "        5.04355452e-04, 2.05866214e-04, 1.46802325e-04, 2.53291661e-05,\n",
              "        2.83737102e-04, 5.44578515e-05, 6.45332814e-05, 3.64886686e-05]),\n",
              " 'param_criterion': masked_array(data=['gini', 'gini', 'gini', 'gini', 'gini', 'gini', 'gini',\n",
              "                    'gini', 'gini', 'gini', 'gini', 'gini', 'entropy',\n",
              "                    'entropy', 'entropy', 'entropy', 'entropy', 'entropy',\n",
              "                    'entropy', 'entropy', 'entropy', 'entropy', 'entropy',\n",
              "                    'entropy'],\n",
              "              mask=[False, False, False, False, False, False, False, False,\n",
              "                    False, False, False, False, False, False, False, False,\n",
              "                    False, False, False, False, False, False, False, False],\n",
              "        fill_value='?',\n",
              "             dtype=object),\n",
              " 'param_max_depth': masked_array(data=[10, 10, 10, 20, 20, 20, 50, 50, 50, 100, 100, 100, 10,\n",
              "                    10, 10, 20, 20, 20, 50, 50, 50, 100, 100, 100],\n",
              "              mask=[False, False, False, False, False, False, False, False,\n",
              "                    False, False, False, False, False, False, False, False,\n",
              "                    False, False, False, False, False, False, False, False],\n",
              "        fill_value='?',\n",
              "             dtype=object),\n",
              " 'param_min_samples_leaf': masked_array(data=[10, 20, 50, 10, 20, 50, 10, 20, 50, 10, 20, 50, 10, 20,\n",
              "                    50, 10, 20, 50, 10, 20, 50, 10, 20, 50],\n",
              "              mask=[False, False, False, False, False, False, False, False,\n",
              "                    False, False, False, False, False, False, False, False,\n",
              "                    False, False, False, False, False, False, False, False],\n",
              "        fill_value='?',\n",
              "             dtype=object),\n",
              " 'params': [{'criterion': 'gini', 'max_depth': 10, 'min_samples_leaf': 10},\n",
              "  {'criterion': 'gini', 'max_depth': 10, 'min_samples_leaf': 20},\n",
              "  {'criterion': 'gini', 'max_depth': 10, 'min_samples_leaf': 50},\n",
              "  {'criterion': 'gini', 'max_depth': 20, 'min_samples_leaf': 10},\n",
              "  {'criterion': 'gini', 'max_depth': 20, 'min_samples_leaf': 20},\n",
              "  {'criterion': 'gini', 'max_depth': 20, 'min_samples_leaf': 50},\n",
              "  {'criterion': 'gini', 'max_depth': 50, 'min_samples_leaf': 10},\n",
              "  {'criterion': 'gini', 'max_depth': 50, 'min_samples_leaf': 20},\n",
              "  {'criterion': 'gini', 'max_depth': 50, 'min_samples_leaf': 50},\n",
              "  {'criterion': 'gini', 'max_depth': 100, 'min_samples_leaf': 10},\n",
              "  {'criterion': 'gini', 'max_depth': 100, 'min_samples_leaf': 20},\n",
              "  {'criterion': 'gini', 'max_depth': 100, 'min_samples_leaf': 50},\n",
              "  {'criterion': 'entropy', 'max_depth': 10, 'min_samples_leaf': 10},\n",
              "  {'criterion': 'entropy', 'max_depth': 10, 'min_samples_leaf': 20},\n",
              "  {'criterion': 'entropy', 'max_depth': 10, 'min_samples_leaf': 50},\n",
              "  {'criterion': 'entropy', 'max_depth': 20, 'min_samples_leaf': 10},\n",
              "  {'criterion': 'entropy', 'max_depth': 20, 'min_samples_leaf': 20},\n",
              "  {'criterion': 'entropy', 'max_depth': 20, 'min_samples_leaf': 50},\n",
              "  {'criterion': 'entropy', 'max_depth': 50, 'min_samples_leaf': 10},\n",
              "  {'criterion': 'entropy', 'max_depth': 50, 'min_samples_leaf': 20},\n",
              "  {'criterion': 'entropy', 'max_depth': 50, 'min_samples_leaf': 50},\n",
              "  {'criterion': 'entropy', 'max_depth': 100, 'min_samples_leaf': 10},\n",
              "  {'criterion': 'entropy', 'max_depth': 100, 'min_samples_leaf': 20},\n",
              "  {'criterion': 'entropy', 'max_depth': 100, 'min_samples_leaf': 50}],\n",
              " 'split0_test_score': array([0.95163265, 0.95306122, 0.95612245, 0.95163265, 0.95265306,\n",
              "        0.95244898, 0.95163265, 0.9644898 , 0.94673469, 0.95163265,\n",
              "        0.94897959, 0.96163265, 0.95346939, 0.96367347, 0.9277551 ,\n",
              "        0.9522449 , 0.96714286, 0.9277551 , 0.9522449 , 0.96714286,\n",
              "        0.9277551 , 0.9522449 , 0.96714286, 0.9277551 ]),\n",
              " 'split1_test_score': array([0.96326531, 0.97102041, 0.95897959, 0.96857143, 0.97367347,\n",
              "        0.95897959, 0.95612245, 0.97102041, 0.95897959, 0.96938776,\n",
              "        0.96816327, 0.95897959, 0.94265306, 0.93897959, 0.95897959,\n",
              "        0.94265306, 0.93734694, 0.95897959, 0.94346939, 0.93734694,\n",
              "        0.95897959, 0.94346939, 0.93897959, 0.95897959]),\n",
              " 'split2_test_score': array([0.99354436, 0.99312786, 0.98250729, 0.99354436, 0.99312786,\n",
              "        0.98250729, 0.99354436, 0.99312786, 0.98250729, 0.99354436,\n",
              "        0.99312786, 0.98250729, 0.99042066, 0.98979592, 0.9816743 ,\n",
              "        0.99042066, 0.98979592, 0.98396501, 0.99042066, 0.98979592,\n",
              "        0.98313203, 0.99042066, 0.98979592, 0.98396501]),\n",
              " 'split3_test_score': array([0.98354852, 0.96209913, 0.95668471, 0.98354852, 0.96209913,\n",
              "        0.95689296, 0.98354852, 0.97396918, 0.95585173, 0.98354852,\n",
              "        0.96209913, 0.95668471, 0.97147022, 0.96563932, 0.96105789,\n",
              "        0.98771345, 0.96563932, 0.95460225, 0.98979592, 0.96563932,\n",
              "        0.95460225, 0.98937943, 0.96563932, 0.95460225]),\n",
              " 'split4_test_score': array([0.96605581, 0.9727197 , 0.97001249, 0.96438984, 0.9727197 ,\n",
              "        0.97001249, 0.96438984, 0.9727197 , 0.97001249, 0.96563932,\n",
              "        0.9727197 , 0.97001249, 0.99583507, 0.99583507, 0.97001249,\n",
              "        0.99583507, 0.99583507, 0.97001249, 0.99583507, 0.99583507,\n",
              "        0.97001249, 0.99583507, 0.99583507, 0.97001249]),\n",
              " 'mean_test_score': array([0.97160933, 0.97040566, 0.96486131, 0.97233736, 0.97085464,\n",
              "        0.96416826, 0.96984756, 0.97506539, 0.96281716, 0.97275052,\n",
              "        0.96901791, 0.96596335, 0.97076968, 0.97078467, 0.95989588,\n",
              "        0.97377343, 0.97115202, 0.95906289, 0.97435319, 0.97115202,\n",
              "        0.95889629, 0.97426989, 0.97147855, 0.95906289]),\n",
              " 'std_test_score': array([0.01498814, 0.01335559, 0.01015612, 0.01470685, 0.01353128,\n",
              "        0.0108413 , 0.01611957, 0.00960377, 0.01233989, 0.01453838,\n",
              "        0.01445771, 0.00942039, 0.02051716, 0.0203841 , 0.01795475,\n",
              "        0.02186378, 0.0207176 , 0.01865525, 0.02191209, 0.0207176 ,\n",
              "        0.01843453, 0.02185394, 0.02018833, 0.01865525]),\n",
              " 'rank_test_score': array([ 7, 14, 18,  6, 11, 19, 15,  1, 20,  5, 16, 17, 13, 12, 21,  4,  9,\n",
              "        22,  2,  9, 24,  3,  8, 22], dtype=int32)}"
            ]
          },
          "metadata": {},
          "execution_count": 43
        }
      ],
      "source": [
        "cv_grid_oversampled.cv_results_"
      ]
    },
    {
      "cell_type": "code",
      "execution_count": 44,
      "metadata": {
        "colab": {
          "base_uri": "https://localhost:8080/"
        },
        "id": "v-5BgoDN6MeM",
        "outputId": "ad83e188-e431-4da2-f2e6-e664afe4789f"
      },
      "outputs": [
        {
          "output_type": "execute_result",
          "data": {
            "text/plain": [
              "{'ccp_alpha': 0.0,\n",
              " 'class_weight': None,\n",
              " 'criterion': 'gini',\n",
              " 'max_depth': 50,\n",
              " 'max_features': None,\n",
              " 'max_leaf_nodes': None,\n",
              " 'min_impurity_decrease': 0.0,\n",
              " 'min_samples_leaf': 20,\n",
              " 'min_samples_split': 2,\n",
              " 'min_weight_fraction_leaf': 0.0,\n",
              " 'random_state': None,\n",
              " 'splitter': 'best'}"
            ]
          },
          "metadata": {},
          "execution_count": 44
        }
      ],
      "source": [
        "best_parameters = cv_grid_oversampled.best_estimator_.get_params()\n",
        "best_parameters"
      ]
    },
    {
      "cell_type": "code",
      "execution_count": 45,
      "metadata": {
        "colab": {
          "base_uri": "https://localhost:8080/"
        },
        "id": "QPED7aXM6Mr5",
        "outputId": "85ff6a56-b3cd-45c2-88fa-4043daa4dd88"
      },
      "outputs": [
        {
          "output_type": "stream",
          "name": "stdout",
          "text": [
            "recall score on validation data: 0.954954954954955\n",
            "precision score on validation data: 0.9636363636363636\n",
            "roc auc score on validation data: 0.9441441441441442\n",
            "accuracy score on validation data: 0.9473684210526315\n",
            "confusion matrix on validation data: \n",
            "[[ 56   4]\n",
            " [  5 106]]\n",
            "\n",
            "\n",
            "\n",
            "\n",
            "recall score on validation data (with oversampling): 0.9819819819819819\n",
            "precision score on validation data (with oversampling): 0.9478260869565217\n",
            "roc auc score on validation data (with oversampling): 0.940990990990991\n",
            "accuracy score on validation data (with oversampling): 0.9532163742690059\n",
            "confusion matrix on validation data (with oversampling): \n",
            "[[ 54   6]\n",
            " [  2 109]]\n"
          ]
        }
      ],
      "source": [
        "pred_test_dt_tuned = cv_grid_oversampled.predict(X_test)\n",
        "print(\"recall score on validation data: \" + str(recall_score(y_test, pred_test_dt_tuned)))     \n",
        "print(\"precision score on validation data: \" + str(precision_score(y_test, pred_test_dt_tuned)))  \n",
        "print(\"roc auc score on validation data: \" + str(roc_auc_score(y_test, pred_test_dt_tuned)))  \n",
        "print(\"accuracy score on validation data: \" + str(accuracy_score(y_test, pred_test_dt_tuned)))  \n",
        "print(\"confusion matrix on validation data: \\n\" + str(confusion_matrix(y_test, pred_test_dt_tuned)))\n",
        "print('\\n\\n\\n')\n",
        "pred_test_dt_tuned_oversampled = cv_grid.predict(X_test)\n",
        "print(\"recall score on validation data (with oversampling): \" + str(recall_score(y_test, pred_test_dt_tuned_oversampled)))     \n",
        "print(\"precision score on validation data (with oversampling): \" + str(precision_score(y_test, pred_test_dt_tuned_oversampled)))  \n",
        "print(\"roc auc score on validation data (with oversampling): \" + str(roc_auc_score(y_test, pred_test_dt_tuned_oversampled)))  \n",
        "print(\"accuracy score on validation data (with oversampling): \" + str(accuracy_score(y_test, pred_test_dt_tuned_oversampled)))  \n",
        "print(\"confusion matrix on validation data (with oversampling): \\n\" + str(confusion_matrix(y_test, pred_test_dt_tuned_oversampled)))"
      ]
    },
    {
      "cell_type": "markdown",
      "metadata": {
        "id": "k_chZTIS7Tbs"
      },
      "source": [
        "##### It is noted that handling data imbalance gives slightly better results."
      ]
    },
    {
      "cell_type": "markdown",
      "metadata": {
        "id": "JZfTWhdF4hvR"
      },
      "source": [
        "## CLASSIFICATION USING K-NEAREST NEIGHBOR\n",
        "\n",
        "#### Without OverSampling"
      ]
    },
    {
      "cell_type": "markdown",
      "metadata": {
        "id": "j8pFIJ1q6W8B"
      },
      "source": [
        "#### Model Fitting for K = 3"
      ]
    },
    {
      "cell_type": "code",
      "execution_count": 38,
      "metadata": {
        "colab": {
          "base_uri": "https://localhost:8080/"
        },
        "id": "hd0Z0dkH2iTm",
        "outputId": "4e3766ec-fe94-4b11-9527-66f448d5d2f0"
      },
      "outputs": [
        {
          "output_type": "execute_result",
          "data": {
            "text/plain": [
              "KNeighborsClassifier(n_neighbors=3)"
            ]
          },
          "metadata": {},
          "execution_count": 38
        }
      ],
      "source": [
        "model3 = KNeighborsClassifier(n_neighbors=3)\n",
        "model3.fit(X_train,y_train)"
      ]
    },
    {
      "cell_type": "markdown",
      "metadata": {
        "id": "y3ftZRhO6daZ"
      },
      "source": [
        "#### Model Fitting for K = 5"
      ]
    },
    {
      "cell_type": "code",
      "execution_count": 46,
      "metadata": {
        "colab": {
          "base_uri": "https://localhost:8080/"
        },
        "id": "6CTS72Dz5d9u",
        "outputId": "3be97b9e-b59a-4c22-913f-b3bb4ed7d9b5"
      },
      "outputs": [
        {
          "output_type": "execute_result",
          "data": {
            "text/plain": [
              "KNeighborsClassifier()"
            ]
          },
          "metadata": {},
          "execution_count": 46
        }
      ],
      "source": [
        "model5 = KNeighborsClassifier(n_neighbors=5)\n",
        "model5.fit(X_train,y_train)"
      ]
    },
    {
      "cell_type": "markdown",
      "metadata": {
        "id": "cflBG_Cg6rt8"
      },
      "source": [
        "#### Model Fitting for K = 7"
      ]
    },
    {
      "cell_type": "code",
      "execution_count": 47,
      "metadata": {
        "colab": {
          "base_uri": "https://localhost:8080/"
        },
        "id": "0eD0E1996n0N",
        "outputId": "baedf085-343f-44c1-8369-6148ea924534"
      },
      "outputs": [
        {
          "output_type": "execute_result",
          "data": {
            "text/plain": [
              "KNeighborsClassifier(n_neighbors=7)"
            ]
          },
          "metadata": {},
          "execution_count": 47
        }
      ],
      "source": [
        "model7 = KNeighborsClassifier(n_neighbors=7)\n",
        "model7.fit(X_train,y_train)"
      ]
    },
    {
      "cell_type": "markdown",
      "metadata": {
        "id": "EcQ96yf17ckW"
      },
      "source": [
        "####With OverSampling\n",
        "#### Model Fitting for K = 3"
      ]
    },
    {
      "cell_type": "code",
      "execution_count": 21,
      "metadata": {
        "colab": {
          "base_uri": "https://localhost:8080/"
        },
        "id": "Bw7z6faW6xL7",
        "outputId": "a547c069-4dae-44c8-94b8-ee3ba57f5a56"
      },
      "outputs": [
        {
          "output_type": "execute_result",
          "data": {
            "text/plain": [
              "KNeighborsClassifier(n_neighbors=3)"
            ]
          },
          "metadata": {},
          "execution_count": 21
        }
      ],
      "source": [
        "model3_os = KNeighborsClassifier(n_neighbors=3)\n",
        "model3_os.fit(X_train_res,y_train_res)"
      ]
    },
    {
      "cell_type": "markdown",
      "metadata": {
        "id": "eFy9kfKn9fau"
      },
      "source": [
        "#### Model Fitting for K = 5"
      ]
    },
    {
      "cell_type": "code",
      "execution_count": 48,
      "metadata": {
        "colab": {
          "base_uri": "https://localhost:8080/"
        },
        "id": "_VEwtvg58k3S",
        "outputId": "fe7dfc78-a016-421c-dd0f-15737c03dbe8"
      },
      "outputs": [
        {
          "output_type": "execute_result",
          "data": {
            "text/plain": [
              "KNeighborsClassifier()"
            ]
          },
          "metadata": {},
          "execution_count": 48
        }
      ],
      "source": [
        "model5_os = KNeighborsClassifier(n_neighbors=5)\n",
        "model5_os.fit(X_train_res,y_train_res)"
      ]
    },
    {
      "cell_type": "markdown",
      "metadata": {
        "id": "Z4Uw0rL29pS-"
      },
      "source": [
        "#### Model Fitting for K = 7"
      ]
    },
    {
      "cell_type": "code",
      "execution_count": 49,
      "metadata": {
        "colab": {
          "base_uri": "https://localhost:8080/"
        },
        "id": "aOrtWeLu9rgr",
        "outputId": "43fe8309-e2c8-4010-a628-acfeb93f32fc"
      },
      "outputs": [
        {
          "output_type": "execute_result",
          "data": {
            "text/plain": [
              "KNeighborsClassifier(n_neighbors=7)"
            ]
          },
          "metadata": {},
          "execution_count": 49
        }
      ],
      "source": [
        "model7_os = KNeighborsClassifier(n_neighbors=7)\n",
        "model7_os.fit(X_train_res,y_train_res)"
      ]
    },
    {
      "cell_type": "markdown",
      "metadata": {
        "id": "ZkEDMrYz-KW6"
      },
      "source": [
        "#####Comparing all results of KNN models"
      ]
    },
    {
      "cell_type": "code",
      "execution_count": 50,
      "metadata": {
        "colab": {
          "base_uri": "https://localhost:8080/"
        },
        "id": "rvk73c7m-IrM",
        "outputId": "b6c9ff8c-64f0-4860-cbe9-4115e86c6ad8"
      },
      "outputs": [
        {
          "output_type": "stream",
          "name": "stdout",
          "text": [
            "recall score on validation data k = 3: 0.990990990990991\n",
            "precision score on validation data k = 3: 0.9649122807017544\n",
            "roc auc score on validation data k = 3: 0.9621621621621622\n",
            "accuracy score on validation data k = 3: 0.9707602339181286\n",
            "confusion matrix on validation data k = 3: \n",
            "[[ 56   4]\n",
            " [  1 110]]\n",
            "recall score on validation data k = 3 (with oversampling): 0.972972972972973\n",
            "precision score on validation data k = 3 (with oversampling): 0.9818181818181818\n",
            "roc auc score on validation data k = 3 (with oversampling): 0.9698198198198198\n",
            "accuracy score on validation data k = 3 (with oversampling): 0.9707602339181286\n",
            "confusion matrix on validation data k = 3 (with oversampling): \n",
            "[[ 58   2]\n",
            " [  3 108]]\n",
            "\n",
            "\n",
            "\n",
            "\n",
            "recall score on validation data k = 5: 0.990990990990991\n",
            "precision score on validation data k = 5: 0.9649122807017544\n",
            "roc auc score on validation data k = 5: 0.9621621621621622\n",
            "accuracy score on validation data k = 5: 0.9707602339181286\n",
            "confusion matrix on validation data k = 5: \n",
            "[[ 56   4]\n",
            " [  1 110]]\n",
            "recall score on validation data k = 5 (with oversampling): 0.972972972972973\n",
            "precision score on validation data k = 5 (with oversampling): 0.9818181818181818\n",
            "roc auc score on validation data k = 5 (with oversampling): 0.9698198198198198\n",
            "accuracy score on validation data k = 5 (with oversampling): 0.9707602339181286\n",
            "confusion matrix on validation data k = 5 (with oversampling): \n",
            "[[ 58   2]\n",
            " [  3 108]]\n",
            "\n",
            "\n",
            "\n",
            "\n",
            "recall score on validation data k = 7: 0.990990990990991\n",
            "precision score on validation data k = 7: 0.9565217391304348\n",
            "roc auc score on validation data k = 7: 0.9538288288288288\n",
            "accuracy score on validation data k = 7: 0.9649122807017544\n",
            "confusion matrix on validation data k = 7: \n",
            "[[ 55   5]\n",
            " [  1 110]]\n",
            "recall score on validation data k = 7 (with oversampling): 0.972972972972973\n",
            "precision score on validation data k = 7 (with oversampling): 0.972972972972973\n",
            "roc auc score on validation data k = 7 (with oversampling): 0.9614864864864865\n",
            "accuracy score on validation data k = 7 (with oversampling): 0.9649122807017544\n",
            "confusion matrix on validation data k = 7 (with oversampling): \n",
            "[[ 57   3]\n",
            " [  3 108]]\n"
          ]
        }
      ],
      "source": [
        "#Predict Output\n",
        "pred_test_knn_3 = model3.predict(X_test)\n",
        "print(\"recall score on validation data k = 3: \" + str(recall_score(y_test, pred_test_knn_3)))     \n",
        "print(\"precision score on validation data k = 3: \" + str(precision_score(y_test, pred_test_knn_3)))  \n",
        "print(\"roc auc score on validation data k = 3: \" + str(roc_auc_score(y_test, pred_test_knn_3)))    \n",
        "print(\"accuracy score on validation data k = 3: \" + str(accuracy_score(y_test, pred_test_knn_3)))\n",
        "print(\"confusion matrix on validation data k = 3: \\n\" + str(confusion_matrix(y_test, pred_test_knn_3)))\n",
        "#Predict Output\n",
        "pred_test_knn_3_os = model3_os.predict(X_test)\n",
        "print(\"recall score on validation data k = 3 (with oversampling): \" + str(recall_score(y_test, pred_test_knn_3_os)))     \n",
        "print(\"precision score on validation data k = 3 (with oversampling): \" + str(precision_score(y_test, pred_test_knn_3_os)))  \n",
        "print(\"roc auc score on validation data k = 3 (with oversampling): \" + str(roc_auc_score(y_test, pred_test_knn_3_os)))    \n",
        "print(\"accuracy score on validation data k = 3 (with oversampling): \" + str(accuracy_score(y_test, pred_test_knn_3_os)))\n",
        "print(\"confusion matrix on validation data k = 3 (with oversampling): \\n\" + str(confusion_matrix(y_test, pred_test_knn_3_os)))\n",
        "print('\\n\\n\\n')\n",
        "\n",
        "#Predict Output\n",
        "pred_test_knn_5 = model5.predict(X_test)\n",
        "print(\"recall score on validation data k = 5: \" + str(recall_score(y_test, pred_test_knn_5)))     \n",
        "print(\"precision score on validation data k = 5: \" + str(precision_score(y_test, pred_test_knn_5)))  \n",
        "print(\"roc auc score on validation data k = 5: \" + str(roc_auc_score(y_test, pred_test_knn_5)))    \n",
        "print(\"accuracy score on validation data k = 5: \" + str(accuracy_score(y_test, pred_test_knn_5)))\n",
        "print(\"confusion matrix on validation data k = 5: \\n\" + str(confusion_matrix(y_test, pred_test_knn_5)))\n",
        "#Predict Output\n",
        "pred_test_knn_5_os = model5_os.predict(X_test)\n",
        "print(\"recall score on validation data k = 5 (with oversampling): \" + str(recall_score(y_test, pred_test_knn_5_os)))     \n",
        "print(\"precision score on validation data k = 5 (with oversampling): \" + str(precision_score(y_test, pred_test_knn_5_os)))  \n",
        "print(\"roc auc score on validation data k = 5 (with oversampling): \" + str(roc_auc_score(y_test, pred_test_knn_5_os)))    \n",
        "print(\"accuracy score on validation data k = 5 (with oversampling): \" + str(accuracy_score(y_test, pred_test_knn_5_os)))\n",
        "print(\"confusion matrix on validation data k = 5 (with oversampling): \\n\" + str(confusion_matrix(y_test, pred_test_knn_5_os)))\n",
        "print('\\n\\n\\n')\n",
        "\n",
        "#Predict Output\n",
        "pred_test_knn_7 = model7.predict(X_test)\n",
        "print(\"recall score on validation data k = 7: \" + str(recall_score(y_test, pred_test_knn_7)))     \n",
        "print(\"precision score on validation data k = 7: \" + str(precision_score(y_test, pred_test_knn_7)))  \n",
        "print(\"roc auc score on validation data k = 7: \" + str(roc_auc_score(y_test, pred_test_knn_7))) \n",
        "print(\"accuracy score on validation data k = 7: \" + str(accuracy_score(y_test, pred_test_knn_7)))   \n",
        "print(\"confusion matrix on validation data k = 7: \\n\" + str(confusion_matrix(y_test, pred_test_knn_7)))\n",
        "#Predict Output\n",
        "pred_test_knn_7_os = model7_os.predict(X_test)\n",
        "print(\"recall score on validation data k = 7 (with oversampling): \" + str(recall_score(y_test, pred_test_knn_7_os)))     \n",
        "print(\"precision score on validation data k = 7 (with oversampling): \" + str(precision_score(y_test, pred_test_knn_7_os)))  \n",
        "print(\"roc auc score on validation data k = 7 (with oversampling): \" + str(roc_auc_score(y_test, pred_test_knn_7_os)))    \n",
        "print(\"accuracy score on validation data k = 7 (with oversampling): \" + str(accuracy_score(y_test, pred_test_knn_7_os)))\n",
        "print(\"confusion matrix on validation data k = 7 (with oversampling): \\n\" + str(confusion_matrix(y_test, pred_test_knn_7_os)))"
      ]
    },
    {
      "cell_type": "markdown",
      "metadata": {
        "id": "q-WhUGZT_acR"
      },
      "source": [
        "It is noted that oversampling here does not help much.\n",
        "\n",
        "\n",
        "\n",
        "## CLASSIFICATION USING GRADIENT BOOSTING MACHINE (GBM)\n",
        "\n",
        "#### Without OverSampling"
      ]
    },
    {
      "cell_type": "code",
      "execution_count": 25,
      "metadata": {
        "id": "Mh_DCBkX-5PV"
      },
      "outputs": [],
      "source": [
        "#Learning rate = 0.1\n",
        "gradient_booster_1 = GradientBoostingClassifier(learning_rate=0.1)\n",
        "gradient_booster_1.fit(X_train,y_train)\n",
        "pred_test_gb_1 = gradient_booster_1.predict(X_test)"
      ]
    },
    {
      "cell_type": "code",
      "execution_count": 26,
      "metadata": {
        "id": "cHZEBTf-BwmI"
      },
      "outputs": [],
      "source": [
        "#Learning rate = 0.2\n",
        "gradient_booster_2 = GradientBoostingClassifier(learning_rate=0.2)\n",
        "gradient_booster_2.fit(X_train,y_train)\n",
        "pred_test_gb_2 = gradient_booster_2.predict(X_test)"
      ]
    },
    {
      "cell_type": "code",
      "execution_count": 27,
      "metadata": {
        "id": "RDjyHpCqBw5l"
      },
      "outputs": [],
      "source": [
        "#Learning rate = 0.3\n",
        "gradient_booster_3 = GradientBoostingClassifier(learning_rate=0.3)\n",
        "gradient_booster_3.fit(X_train,y_train)\n",
        "pred_test_gb_3 = gradient_booster_3.predict(X_test)"
      ]
    },
    {
      "cell_type": "markdown",
      "metadata": {
        "id": "HJxiWFP3AzeN"
      },
      "source": [
        "#### With OverSampling"
      ]
    },
    {
      "cell_type": "code",
      "execution_count": 51,
      "metadata": {
        "id": "_t2WcmBMAtft"
      },
      "outputs": [],
      "source": [
        "#Learning rate = 0.1\n",
        "gradient_booster_os_1 = GradientBoostingClassifier(learning_rate=0.1)\n",
        "gradient_booster_os_1.fit(X_train_res,y_train_res)\n",
        "pred_test_gb_os_1 = gradient_booster_os_1.predict(X_test)"
      ]
    },
    {
      "cell_type": "code",
      "execution_count": 52,
      "metadata": {
        "id": "mwiHea1SCDbR"
      },
      "outputs": [],
      "source": [
        "#Learning rate = 0.2\n",
        "gradient_booster_os_2 = GradientBoostingClassifier(learning_rate=0.2)\n",
        "gradient_booster_os_2.fit(X_train_res,y_train_res)\n",
        "pred_test_gb_os_2 = gradient_booster_os_2.predict(X_test)"
      ]
    },
    {
      "cell_type": "code",
      "execution_count": 53,
      "metadata": {
        "id": "JZoeLYaLCDrn"
      },
      "outputs": [],
      "source": [
        "#Learning rate = 0.3\n",
        "gradient_booster_os_3= GradientBoostingClassifier(learning_rate=0.3)\n",
        "gradient_booster_os_3.fit(X_train_res,y_train_res)\n",
        "pred_test_gb_os_3 = gradient_booster_os_3.predict(X_test)"
      ]
    },
    {
      "cell_type": "code",
      "execution_count": 54,
      "metadata": {
        "colab": {
          "base_uri": "https://localhost:8080/"
        },
        "id": "Zia9pfswA8_G",
        "outputId": "40318a2d-5059-44ea-d198-413db3e09f8c"
      },
      "outputs": [
        {
          "output_type": "stream",
          "name": "stdout",
          "text": [
            "recall score on validation data (learning rate = 0.1): 0.990990990990991\n",
            "precision score on validation data (learning rate = 0.1): 0.9649122807017544\n",
            "roc auc score on validation data (learning rate = 0.1): 0.9621621621621622\n",
            "accuracy score on validation data (learning rate = 0.1): 0.9707602339181286\n",
            "confusion matrix on validation data (learning rate = 0.1): \n",
            "[[ 56   4]\n",
            " [  1 110]]\n",
            "recall score on validation data (learning rate = 0.1 -> with oversampling): 0.990990990990991\n",
            "precision score on validation data (learning rate = 0.1 -> with oversampling): 0.9649122807017544\n",
            "roc auc score on validation data (learning rate = 0.1 -> with oversampling): 0.9621621621621622\n",
            "accuracy score on validation data (learning rate = 0.1 -> with oversampling): 0.9707602339181286\n",
            "confusion matrix on validation data (learning rate = 0.1 -> with oversampling): \n",
            "[[ 56   4]\n",
            " [  1 110]]\n",
            "\n",
            "\n",
            "\n",
            "\n",
            "recall score on validation data (learning rate = 0.2): 0.990990990990991\n",
            "precision score on validation data (learning rate = 0.2): 0.9734513274336283\n",
            "roc auc score on validation data (learning rate = 0.2): 0.9704954954954955\n",
            "accuracy score on validation data (learning rate = 0.2): 0.9766081871345029\n",
            "confusion matrix on validation data (learning rate = 0.2): \n",
            "[[ 57   3]\n",
            " [  1 110]]\n",
            "recall score on validation data (learning rate = 0.2 -> with oversampling): 0.9819819819819819\n",
            "precision score on validation data (learning rate = 0.2 -> with oversampling): 0.9732142857142857\n",
            "roc auc score on validation data (learning rate = 0.2 -> with oversampling): 0.965990990990991\n",
            "accuracy score on validation data (learning rate = 0.2 -> with oversampling): 0.9707602339181286\n",
            "confusion matrix on validation data (learning rate = 0.2 -> with oversampling): \n",
            "[[ 57   3]\n",
            " [  2 109]]\n",
            "\n",
            "\n",
            "\n",
            "\n",
            "recall score on validation data (learning rate = 0.3): 0.990990990990991\n",
            "precision score on validation data (learning rate = 0.3): 0.9565217391304348\n",
            "roc auc score on validation data (learning rate = 0.3): 0.9538288288288288\n",
            "accuracy score on validation data (learning rate = 0.3): 0.9649122807017544\n",
            "confusion matrix on validation data (learning rate = 0.3): \n",
            "[[ 55   5]\n",
            " [  1 110]]\n",
            "recall score on validation data (learning rate = 0.3 -> with oversampling): 0.990990990990991\n",
            "precision score on validation data (learning rate = 0.3 -> with oversampling): 0.9734513274336283\n",
            "roc auc score on validation data (learning rate = 0.3 -> with oversampling): 0.9704954954954955\n",
            "accuracy score on validation data (learning rate = 0.3 -> with oversampling): 0.9766081871345029\n",
            "confusion matrix on validation data (learning rate = 0.3 -> with oversampling): \n",
            "[[ 57   3]\n",
            " [  1 110]]\n"
          ]
        }
      ],
      "source": [
        "print(\"recall score on validation data (learning rate = 0.1): \" + str(recall_score(y_test, pred_test_gb_1)))     \n",
        "print(\"precision score on validation data (learning rate = 0.1): \" + str(precision_score(y_test, pred_test_gb_1)))  \n",
        "print(\"roc auc score on validation data (learning rate = 0.1): \" + str(roc_auc_score(y_test, pred_test_gb_1)))  \n",
        "print(\"accuracy score on validation data (learning rate = 0.1): \" + str(accuracy_score(y_test, pred_test_gb_1)))  \n",
        "print(\"confusion matrix on validation data (learning rate = 0.1): \\n\" + str(confusion_matrix(y_test, pred_test_gb_1)))\n",
        "\n",
        "print(\"recall score on validation data (learning rate = 0.1 -> with oversampling): \" + str(recall_score(y_test, pred_test_gb_os_1)))     \n",
        "print(\"precision score on validation data (learning rate = 0.1 -> with oversampling): \" + str(precision_score(y_test, pred_test_gb_os_1)))  \n",
        "print(\"roc auc score on validation data (learning rate = 0.1 -> with oversampling): \" + str(roc_auc_score(y_test, pred_test_gb_os_1)))  \n",
        "print(\"accuracy score on validation data (learning rate = 0.1 -> with oversampling): \" + str(accuracy_score(y_test, pred_test_gb_os_1)))  \n",
        "print(\"confusion matrix on validation data (learning rate = 0.1 -> with oversampling): \\n\" + str(confusion_matrix(y_test, pred_test_gb_os_1)))\n",
        "\n",
        "print('\\n\\n\\n')\n",
        "\n",
        "print(\"recall score on validation data (learning rate = 0.2): \" + str(recall_score(y_test, pred_test_gb_2)))     \n",
        "print(\"precision score on validation data (learning rate = 0.2): \" + str(precision_score(y_test, pred_test_gb_2)))  \n",
        "print(\"roc auc score on validation data (learning rate = 0.2): \" + str(roc_auc_score(y_test, pred_test_gb_2)))  \n",
        "print(\"accuracy score on validation data (learning rate = 0.2): \" + str(accuracy_score(y_test, pred_test_gb_2)))  \n",
        "print(\"confusion matrix on validation data (learning rate = 0.2): \\n\" + str(confusion_matrix(y_test, pred_test_gb_2)))\n",
        "\n",
        "print(\"recall score on validation data (learning rate = 0.2 -> with oversampling): \" + str(recall_score(y_test, pred_test_gb_os_2)))     \n",
        "print(\"precision score on validation data (learning rate = 0.2 -> with oversampling): \" + str(precision_score(y_test, pred_test_gb_os_2)))  \n",
        "print(\"roc auc score on validation data (learning rate = 0.2 -> with oversampling): \" + str(roc_auc_score(y_test, pred_test_gb_os_2)))  \n",
        "print(\"accuracy score on validation data (learning rate = 0.2 -> with oversampling): \" + str(accuracy_score(y_test, pred_test_gb_os_2)))  \n",
        "print(\"confusion matrix on validation data (learning rate = 0.2 -> with oversampling): \\n\" + str(confusion_matrix(y_test, pred_test_gb_os_2)))\n",
        "\n",
        "print('\\n\\n\\n')\n",
        "\n",
        "print(\"recall score on validation data (learning rate = 0.3): \" + str(recall_score(y_test, pred_test_gb_3)))     \n",
        "print(\"precision score on validation data (learning rate = 0.3): \" + str(precision_score(y_test, pred_test_gb_3)))  \n",
        "print(\"roc auc score on validation data (learning rate = 0.3): \" + str(roc_auc_score(y_test, pred_test_gb_3)))  \n",
        "print(\"accuracy score on validation data (learning rate = 0.3): \" + str(accuracy_score(y_test, pred_test_gb_3)))  \n",
        "print(\"confusion matrix on validation data (learning rate = 0.3): \\n\" + str(confusion_matrix(y_test, pred_test_gb_3)))\n",
        "\n",
        "print(\"recall score on validation data (learning rate = 0.3 -> with oversampling): \" + str(recall_score(y_test, pred_test_gb_os_3)))     \n",
        "print(\"precision score on validation data (learning rate = 0.3 -> with oversampling): \" + str(precision_score(y_test, pred_test_gb_os_3)))  \n",
        "print(\"roc auc score on validation data (learning rate = 0.3 -> with oversampling): \" + str(roc_auc_score(y_test, pred_test_gb_os_3)))  \n",
        "print(\"accuracy score on validation data (learning rate = 0.3 -> with oversampling): \" + str(accuracy_score(y_test, pred_test_gb_os_3)))  \n",
        "print(\"confusion matrix on validation data (learning rate = 0.3 -> with oversampling): \\n\" + str(confusion_matrix(y_test, pred_test_gb_os_3)))"
      ]
    },
    {
      "cell_type": "markdown",
      "metadata": {
        "id": "Bjf_KVZ1EmMG"
      },
      "source": [
        "It is noted that oversampling here does not help much.\n",
        "\n",
        "## CLASSIFICATION USING RANDOM FOREST\n",
        "\n",
        "####Without OverSampling"
      ]
    },
    {
      "cell_type": "code",
      "execution_count": 32,
      "metadata": {
        "id": "QdPmZkMCBIzO"
      },
      "outputs": [],
      "source": [
        "estimator = RandomForestClassifier(random_state=0, warm_start = True)\n",
        "estimator.fit(X_train,y_train)\n",
        "pred_test_rf = estimator.predict(X_test)"
      ]
    },
    {
      "cell_type": "markdown",
      "metadata": {
        "id": "RnLDFoRtFS6X"
      },
      "source": [
        "####With OverSampling"
      ]
    },
    {
      "cell_type": "code",
      "execution_count": 55,
      "metadata": {
        "id": "22Oi5wybFSSN"
      },
      "outputs": [],
      "source": [
        "estimator_os = RandomForestClassifier(random_state=0, warm_start = True)\n",
        "estimator_os.fit(X_train_res,y_train_res)\n",
        "pred_test_rf_os = estimator_os.predict(X_test)"
      ]
    },
    {
      "cell_type": "code",
      "execution_count": 56,
      "metadata": {
        "colab": {
          "base_uri": "https://localhost:8080/"
        },
        "id": "_4iXjCUlFHKx",
        "outputId": "0ba5bdde-4d0e-49dc-8db2-75b87983e909"
      },
      "outputs": [
        {
          "output_type": "stream",
          "name": "stdout",
          "text": [
            "recall score on validation data: 0.990990990990991\n",
            "precision score on validation data: 0.9565217391304348\n",
            "roc auc score on validation data: 0.9538288288288288\n",
            "accuracy score on validation data: 0.9649122807017544\n",
            "confusion matrix on validation data: \n",
            "[[ 55   5]\n",
            " [  1 110]]\n",
            "\n",
            "\n",
            "\n",
            "\n",
            "recall score on validation data (with oversampling): 0.990990990990991\n",
            "precision score on validation data (with oversampling): 0.9734513274336283\n",
            "roc auc score on validation data (with oversampling): 0.9704954954954955\n",
            "accuracy score on validation data (with oversampling): 0.9766081871345029\n",
            "confusion matrix on validation data (with oversampling): \n",
            "[[ 57   3]\n",
            " [  1 110]]\n"
          ]
        }
      ],
      "source": [
        "print(\"recall score on validation data: \" + str(recall_score(y_test, pred_test_rf)))     \n",
        "print(\"precision score on validation data: \" + str(precision_score(y_test, pred_test_rf)))  \n",
        "print(\"roc auc score on validation data: \" + str(roc_auc_score(y_test, pred_test_rf)))  \n",
        "print(\"accuracy score on validation data: \" + str(accuracy_score(y_test, pred_test_rf)))  \n",
        "print(\"confusion matrix on validation data: \\n\" + str(confusion_matrix(y_test, pred_test_rf)))\n",
        "print('\\n\\n\\n')\n",
        "print(\"recall score on validation data (with oversampling): \" + str(recall_score(y_test, pred_test_rf_os)))     \n",
        "print(\"precision score on validation data (with oversampling): \" + str(precision_score(y_test, pred_test_rf_os)))  \n",
        "print(\"roc auc score on validation data (with oversampling): \" + str(roc_auc_score(y_test, pred_test_rf_os)))  \n",
        "print(\"accuracy score on validation data (with oversampling): \" + str(accuracy_score(y_test, pred_test_rf_os)))  \n",
        "print(\"confusion matrix on validation data (with oversampling): \\n\" + str(confusion_matrix(y_test, pred_test_rf_os)))"
      ]
    },
    {
      "cell_type": "markdown",
      "metadata": {
        "id": "v_1ZsqjsGloN"
      },
      "source": [
        "It is noted that oversampling improves the predictions to a marginal extent."
      ]
    },
    {
      "cell_type": "markdown",
      "metadata": {
        "id": "u9lUQPSLG1qp"
      },
      "source": [
        "### COMPARING ALL MODELS"
      ]
    },
    {
      "cell_type": "code",
      "execution_count": 35,
      "metadata": {
        "id": "T3KQEcULGkcT"
      },
      "outputs": [],
      "source": [
        "df_recall = pd.DataFrame(data = [recall_score(y_test, pred_test_dt_tuned),recall_score(y_test, pred_test_knn_3)\\\n",
        "                                 , recall_score(y_test, pred_test_knn_5),\\\n",
        "                             recall_score(y_test, pred_test_knn_7),\\\n",
        "                             recall_score(y_test, pred_test_gb_1),recall_score(y_test, pred_test_gb_2)\\\n",
        "                             ,recall_score(y_test, pred_test_gb_3),\\\n",
        "                             recall_score(y_test, pred_test_rf)], \\\n",
        "                     index = ['Decision Tree', 'KNN (K = 3)'\\\n",
        "                              ,'KNN (K = 5)','KNN (K = 7)','GB (LR = 0.1)','GB (LR = 0.2)','GB (LR = 0.3)',\\\n",
        "                              'Random Forest'],\n",
        "                     columns = ['Recall Score'])\n",
        "df_roc = pd.DataFrame(data = [roc_auc_score(y_test, pred_test_dt_tuned),roc_auc_score(y_test, pred_test_knn_3)\\\n",
        "                                 , roc_auc_score(y_test, pred_test_knn_5),\\\n",
        "                             roc_auc_score(y_test, pred_test_knn_7),\\\n",
        "                             roc_auc_score(y_test, pred_test_gb_1),roc_auc_score(y_test, pred_test_gb_2)\\\n",
        "                             ,roc_auc_score(y_test, pred_test_gb_3),\\\n",
        "                             roc_auc_score(y_test, pred_test_rf)], \\\n",
        "                     index = ['Decision Tree', 'KNN (K = 3)'\\\n",
        "                              ,'KNN (K = 5)','KNN (K = 7)','GB (LR = 0.1)','GB (LR = 0.2)','GB (LR = 0.3)',\\\n",
        "                              'Random Forest'],\n",
        "                     columns = ['ROC AUC Score'])\n",
        "df_precision = pd.DataFrame(data = [precision_score(y_test, pred_test_dt_tuned),precision_score(y_test, pred_test_knn_3)\\\n",
        "                                 , precision_score(y_test, pred_test_knn_5),\\\n",
        "                             precision_score(y_test, pred_test_knn_7),\\\n",
        "                             precision_score(y_test, pred_test_gb_1),precision_score(y_test, pred_test_gb_2)\\\n",
        "                             ,precision_score(y_test, pred_test_gb_3),\\\n",
        "                             precision_score(y_test, pred_test_rf)], \\\n",
        "                     index = ['Decision Tree', 'KNN (K = 3)'\\\n",
        "                              ,'KNN (K = 5)','KNN (K = 7)','GB (LR = 0.1)','GB (LR = 0.2)','GB (LR = 0.3)',\\\n",
        "                              'Random Forest'],\n",
        "                     columns = ['Precision Score'])\n",
        "df_accuracy =  pd.DataFrame(data = [accuracy_score(y_test, pred_test_dt_tuned),accuracy_score(y_test, pred_test_knn_3)\\\n",
        "                                 , accuracy_score(y_test, pred_test_knn_5),\\\n",
        "                             accuracy_score(y_test, pred_test_knn_7),\\\n",
        "                             accuracy_score(y_test, pred_test_gb_1),accuracy_score(y_test, pred_test_gb_2)\\\n",
        "                             ,accuracy_score(y_test, pred_test_gb_3),\\\n",
        "                             accuracy_score(y_test, pred_test_rf)], \\\n",
        "                     index = ['Decision Tree', 'KNN (K = 3)'\\\n",
        "                              ,'KNN (K = 5)','KNN (K = 7)','GB (LR = 0.1)','GB (LR = 0.2)','GB (LR = 0.3)',\\\n",
        "                              'Random Forest'],\n",
        "                     columns = ['Accuracy Score'])"
      ]
    },
    {
      "cell_type": "code",
      "execution_count": 36,
      "metadata": {
        "id": "ZtvHJ2voLNQF"
      },
      "outputs": [],
      "source": [
        "df_recall_os =  pd.DataFrame(data = [accuracy_score(y_test, pred_test_dt_tuned_oversampled),recall_score(y_test, pred_test_knn_3_os)\\\n",
        "                                 , recall_score(y_test, pred_test_knn_5_os),\\\n",
        "                             accuracy_score(y_test, pred_test_knn_7_os),\\\n",
        "                             recall_score(y_test, pred_test_gb_os_1),recall_score(y_test, pred_test_gb_os_3)\\\n",
        "                             ,recall_score(y_test, pred_test_gb_os_3),\\\n",
        "                             recall_score(y_test, pred_test_rf_os)], \\\n",
        "                     index = ['Decision Tree (OverSampled)', 'KNN (K = 3) (OverSampled)'\\\n",
        "                              ,'KNN (K = 5) (OverSampled)','KNN (K = 7) (OverSampled)','GB (LR = 0.1) (OverSampled)',\\\n",
        "                              'GB (LR = 0.2) (OverSampled)','GB (LR = 0.3) (OverSampled)',\\\n",
        "                              'Random Forest (OverSampled)'],\n",
        "                     columns = ['Recall Score'])\n",
        "\n",
        "df_roc_os = pd.DataFrame(data = [roc_auc_score(y_test, pred_test_dt_tuned_oversampled),roc_auc_score(y_test, pred_test_knn_3_os)\\\n",
        "                                 , roc_auc_score(y_test, pred_test_knn_5_os),\\\n",
        "                             roc_auc_score(y_test, pred_test_knn_7_os),\\\n",
        "                             roc_auc_score(y_test, pred_test_gb_os_1),roc_auc_score(y_test, pred_test_gb_os_2)\\\n",
        "                             ,roc_auc_score(y_test, pred_test_gb_os_3),\\\n",
        "                             roc_auc_score(y_test, pred_test_rf_os)], \\\n",
        "                     index = ['Decision Tree (OverSampled)', 'KNN (K = 3) (OverSampled)'\\\n",
        "                              ,'KNN (K = 5) (OverSampled)','KNN (K = 7) (OverSampled)','GB (LR = 0.1) (OverSampled)',\\\n",
        "                              'GB (LR = 0.2) (OverSampled)','GB (LR = 0.3) (OverSampled)',\\\n",
        "                              'Random Forest (OverSampled)'],\n",
        "                     columns = ['ROC AUC Score'])\n",
        "\n",
        "df_precision_os = pd.DataFrame(data = [precision_score(y_test, pred_test_dt_tuned_oversampled),precision_score(y_test, pred_test_knn_3_os)\\\n",
        "                                 , precision_score(y_test, pred_test_knn_5_os),\\\n",
        "                             precision_score(y_test, pred_test_knn_7_os),\\\n",
        "                             precision_score(y_test, pred_test_gb_os_1),precision_score(y_test, pred_test_gb_os_2)\\\n",
        "                             ,precision_score(y_test, pred_test_gb_os_3),\\\n",
        "                             precision_score(y_test, pred_test_rf_os)], \\\n",
        "                    index = ['Decision Tree (OverSampled)', 'KNN (K = 3) (OverSampled)'\\\n",
        "                              ,'KNN (K = 5) (OverSampled)','KNN (K = 7) (OverSampled)','GB (LR = 0.1) (OverSampled)',\\\n",
        "                              'GB (LR = 0.2) (OverSampled)','GB (LR = 0.3) (OverSampled)',\\\n",
        "                              'Random Forest (OverSampled)'],\n",
        "                     columns = ['Precision Score'])\n",
        "\n",
        "df_accuracy_os =  pd.DataFrame(data = [accuracy_score(y_test, pred_test_dt_tuned_oversampled),accuracy_score(y_test, pred_test_knn_3_os)\\\n",
        "                                 , accuracy_score(y_test, pred_test_knn_5_os),\\\n",
        "                             accuracy_score(y_test, pred_test_knn_7_os),\\\n",
        "                             accuracy_score(y_test, pred_test_gb_os_1),accuracy_score(y_test, pred_test_gb_os_2)\\\n",
        "                             ,accuracy_score(y_test, pred_test_gb_os_3),\\\n",
        "                             accuracy_score(y_test, pred_test_rf_os)], \\\n",
        "                     index = ['Decision Tree (OverSampled)', 'KNN (K = 3) (OverSampled)'\\\n",
        "                              ,'KNN (K = 5) (OverSampled)','KNN (K = 7) (OverSampled)','GB (LR = 0.1) (OverSampled)',\\\n",
        "                              'GB (LR = 0.2) (OverSampled)','GB (LR = 0.3) (OverSampled)',\\\n",
        "                              'Random Forest (OverSampled)'],\n",
        "                     columns = ['Accuracy Score'])"
      ]
    },
    {
      "cell_type": "code",
      "execution_count": 57,
      "metadata": {
        "colab": {
          "base_uri": "https://localhost:8080/",
          "height": 583
        },
        "id": "AQGwBKw4M6FO",
        "outputId": "12ee9ef8-75cc-4813-cab4-5bc2cdebe926"
      },
      "outputs": [
        {
          "output_type": "display_data",
          "data": {
            "text/plain": [
              "               Recall Score  ROC AUC Score  Precision Score  Accuracy Score\n",
              "Decision Tree      0.954955       0.944144         0.963636        0.947368\n",
              "KNN (K = 3)        0.990991       0.962162         0.964912        0.970760\n",
              "KNN (K = 5)        0.990991       0.962162         0.964912        0.970760\n",
              "KNN (K = 7)        0.990991       0.953829         0.956522        0.964912\n",
              "GB (LR = 0.1)      0.990991       0.962162         0.964912        0.970760\n",
              "GB (LR = 0.2)      0.990991       0.970495         0.973451        0.976608\n",
              "GB (LR = 0.3)      0.990991       0.953829         0.956522        0.964912\n",
              "Random Forest      0.990991       0.953829         0.956522        0.964912"
            ],
            "text/html": [
              "\n",
              "  <div id=\"df-bfcc8d5d-6cd4-427e-9685-88028735891c\">\n",
              "    <div class=\"colab-df-container\">\n",
              "      <div>\n",
              "<style scoped>\n",
              "    .dataframe tbody tr th:only-of-type {\n",
              "        vertical-align: middle;\n",
              "    }\n",
              "\n",
              "    .dataframe tbody tr th {\n",
              "        vertical-align: top;\n",
              "    }\n",
              "\n",
              "    .dataframe thead th {\n",
              "        text-align: right;\n",
              "    }\n",
              "</style>\n",
              "<table border=\"1\" class=\"dataframe\">\n",
              "  <thead>\n",
              "    <tr style=\"text-align: right;\">\n",
              "      <th></th>\n",
              "      <th>Recall Score</th>\n",
              "      <th>ROC AUC Score</th>\n",
              "      <th>Precision Score</th>\n",
              "      <th>Accuracy Score</th>\n",
              "    </tr>\n",
              "  </thead>\n",
              "  <tbody>\n",
              "    <tr>\n",
              "      <th>Decision Tree</th>\n",
              "      <td>0.954955</td>\n",
              "      <td>0.944144</td>\n",
              "      <td>0.963636</td>\n",
              "      <td>0.947368</td>\n",
              "    </tr>\n",
              "    <tr>\n",
              "      <th>KNN (K = 3)</th>\n",
              "      <td>0.990991</td>\n",
              "      <td>0.962162</td>\n",
              "      <td>0.964912</td>\n",
              "      <td>0.970760</td>\n",
              "    </tr>\n",
              "    <tr>\n",
              "      <th>KNN (K = 5)</th>\n",
              "      <td>0.990991</td>\n",
              "      <td>0.962162</td>\n",
              "      <td>0.964912</td>\n",
              "      <td>0.970760</td>\n",
              "    </tr>\n",
              "    <tr>\n",
              "      <th>KNN (K = 7)</th>\n",
              "      <td>0.990991</td>\n",
              "      <td>0.953829</td>\n",
              "      <td>0.956522</td>\n",
              "      <td>0.964912</td>\n",
              "    </tr>\n",
              "    <tr>\n",
              "      <th>GB (LR = 0.1)</th>\n",
              "      <td>0.990991</td>\n",
              "      <td>0.962162</td>\n",
              "      <td>0.964912</td>\n",
              "      <td>0.970760</td>\n",
              "    </tr>\n",
              "    <tr>\n",
              "      <th>GB (LR = 0.2)</th>\n",
              "      <td>0.990991</td>\n",
              "      <td>0.970495</td>\n",
              "      <td>0.973451</td>\n",
              "      <td>0.976608</td>\n",
              "    </tr>\n",
              "    <tr>\n",
              "      <th>GB (LR = 0.3)</th>\n",
              "      <td>0.990991</td>\n",
              "      <td>0.953829</td>\n",
              "      <td>0.956522</td>\n",
              "      <td>0.964912</td>\n",
              "    </tr>\n",
              "    <tr>\n",
              "      <th>Random Forest</th>\n",
              "      <td>0.990991</td>\n",
              "      <td>0.953829</td>\n",
              "      <td>0.956522</td>\n",
              "      <td>0.964912</td>\n",
              "    </tr>\n",
              "  </tbody>\n",
              "</table>\n",
              "</div>\n",
              "      <button class=\"colab-df-convert\" onclick=\"convertToInteractive('df-bfcc8d5d-6cd4-427e-9685-88028735891c')\"\n",
              "              title=\"Convert this dataframe to an interactive table.\"\n",
              "              style=\"display:none;\">\n",
              "        \n",
              "  <svg xmlns=\"http://www.w3.org/2000/svg\" height=\"24px\"viewBox=\"0 0 24 24\"\n",
              "       width=\"24px\">\n",
              "    <path d=\"M0 0h24v24H0V0z\" fill=\"none\"/>\n",
              "    <path d=\"M18.56 5.44l.94 2.06.94-2.06 2.06-.94-2.06-.94-.94-2.06-.94 2.06-2.06.94zm-11 1L8.5 8.5l.94-2.06 2.06-.94-2.06-.94L8.5 2.5l-.94 2.06-2.06.94zm10 10l.94 2.06.94-2.06 2.06-.94-2.06-.94-.94-2.06-.94 2.06-2.06.94z\"/><path d=\"M17.41 7.96l-1.37-1.37c-.4-.4-.92-.59-1.43-.59-.52 0-1.04.2-1.43.59L10.3 9.45l-7.72 7.72c-.78.78-.78 2.05 0 2.83L4 21.41c.39.39.9.59 1.41.59.51 0 1.02-.2 1.41-.59l7.78-7.78 2.81-2.81c.8-.78.8-2.07 0-2.86zM5.41 20L4 18.59l7.72-7.72 1.47 1.35L5.41 20z\"/>\n",
              "  </svg>\n",
              "      </button>\n",
              "      \n",
              "  <style>\n",
              "    .colab-df-container {\n",
              "      display:flex;\n",
              "      flex-wrap:wrap;\n",
              "      gap: 12px;\n",
              "    }\n",
              "\n",
              "    .colab-df-convert {\n",
              "      background-color: #E8F0FE;\n",
              "      border: none;\n",
              "      border-radius: 50%;\n",
              "      cursor: pointer;\n",
              "      display: none;\n",
              "      fill: #1967D2;\n",
              "      height: 32px;\n",
              "      padding: 0 0 0 0;\n",
              "      width: 32px;\n",
              "    }\n",
              "\n",
              "    .colab-df-convert:hover {\n",
              "      background-color: #E2EBFA;\n",
              "      box-shadow: 0px 1px 2px rgba(60, 64, 67, 0.3), 0px 1px 3px 1px rgba(60, 64, 67, 0.15);\n",
              "      fill: #174EA6;\n",
              "    }\n",
              "\n",
              "    [theme=dark] .colab-df-convert {\n",
              "      background-color: #3B4455;\n",
              "      fill: #D2E3FC;\n",
              "    }\n",
              "\n",
              "    [theme=dark] .colab-df-convert:hover {\n",
              "      background-color: #434B5C;\n",
              "      box-shadow: 0px 1px 3px 1px rgba(0, 0, 0, 0.15);\n",
              "      filter: drop-shadow(0px 1px 2px rgba(0, 0, 0, 0.3));\n",
              "      fill: #FFFFFF;\n",
              "    }\n",
              "  </style>\n",
              "\n",
              "      <script>\n",
              "        const buttonEl =\n",
              "          document.querySelector('#df-bfcc8d5d-6cd4-427e-9685-88028735891c button.colab-df-convert');\n",
              "        buttonEl.style.display =\n",
              "          google.colab.kernel.accessAllowed ? 'block' : 'none';\n",
              "\n",
              "        async function convertToInteractive(key) {\n",
              "          const element = document.querySelector('#df-bfcc8d5d-6cd4-427e-9685-88028735891c');\n",
              "          const dataTable =\n",
              "            await google.colab.kernel.invokeFunction('convertToInteractive',\n",
              "                                                     [key], {});\n",
              "          if (!dataTable) return;\n",
              "\n",
              "          const docLinkHtml = 'Like what you see? Visit the ' +\n",
              "            '<a target=\"_blank\" href=https://colab.research.google.com/notebooks/data_table.ipynb>data table notebook</a>'\n",
              "            + ' to learn more about interactive tables.';\n",
              "          element.innerHTML = '';\n",
              "          dataTable['output_type'] = 'display_data';\n",
              "          await google.colab.output.renderOutput(dataTable, element);\n",
              "          const docLink = document.createElement('div');\n",
              "          docLink.innerHTML = docLinkHtml;\n",
              "          element.appendChild(docLink);\n",
              "        }\n",
              "      </script>\n",
              "    </div>\n",
              "  </div>\n",
              "  "
            ]
          },
          "metadata": {}
        },
        {
          "output_type": "display_data",
          "data": {
            "text/plain": [
              "                             Recall Score  ROC AUC Score  Precision Score  \\\n",
              "Decision Tree (OverSampled)      0.953216       0.944820         0.955752   \n",
              "KNN (K = 3) (OverSampled)        0.972973       0.969820         0.981818   \n",
              "KNN (K = 5) (OverSampled)        0.972973       0.969820         0.981818   \n",
              "KNN (K = 7) (OverSampled)        0.964912       0.961486         0.972973   \n",
              "GB (LR = 0.1) (OverSampled)      0.990991       0.970495         0.973451   \n",
              "GB (LR = 0.2) (OverSampled)      0.990991       0.965991         0.973214   \n",
              "GB (LR = 0.3) (OverSampled)      0.990991       0.970495         0.973451   \n",
              "Random Forest (OverSampled)      0.990991       0.970495         0.973451   \n",
              "\n",
              "                             Accuracy Score  \n",
              "Decision Tree (OverSampled)        0.953216  \n",
              "KNN (K = 3) (OverSampled)          0.970760  \n",
              "KNN (K = 5) (OverSampled)          0.970760  \n",
              "KNN (K = 7) (OverSampled)          0.964912  \n",
              "GB (LR = 0.1) (OverSampled)        0.976608  \n",
              "GB (LR = 0.2) (OverSampled)        0.970760  \n",
              "GB (LR = 0.3) (OverSampled)        0.976608  \n",
              "Random Forest (OverSampled)        0.976608  "
            ],
            "text/html": [
              "\n",
              "  <div id=\"df-26614b70-eefb-4a2b-a451-df4e6719c5d9\">\n",
              "    <div class=\"colab-df-container\">\n",
              "      <div>\n",
              "<style scoped>\n",
              "    .dataframe tbody tr th:only-of-type {\n",
              "        vertical-align: middle;\n",
              "    }\n",
              "\n",
              "    .dataframe tbody tr th {\n",
              "        vertical-align: top;\n",
              "    }\n",
              "\n",
              "    .dataframe thead th {\n",
              "        text-align: right;\n",
              "    }\n",
              "</style>\n",
              "<table border=\"1\" class=\"dataframe\">\n",
              "  <thead>\n",
              "    <tr style=\"text-align: right;\">\n",
              "      <th></th>\n",
              "      <th>Recall Score</th>\n",
              "      <th>ROC AUC Score</th>\n",
              "      <th>Precision Score</th>\n",
              "      <th>Accuracy Score</th>\n",
              "    </tr>\n",
              "  </thead>\n",
              "  <tbody>\n",
              "    <tr>\n",
              "      <th>Decision Tree (OverSampled)</th>\n",
              "      <td>0.953216</td>\n",
              "      <td>0.944820</td>\n",
              "      <td>0.955752</td>\n",
              "      <td>0.953216</td>\n",
              "    </tr>\n",
              "    <tr>\n",
              "      <th>KNN (K = 3) (OverSampled)</th>\n",
              "      <td>0.972973</td>\n",
              "      <td>0.969820</td>\n",
              "      <td>0.981818</td>\n",
              "      <td>0.970760</td>\n",
              "    </tr>\n",
              "    <tr>\n",
              "      <th>KNN (K = 5) (OverSampled)</th>\n",
              "      <td>0.972973</td>\n",
              "      <td>0.969820</td>\n",
              "      <td>0.981818</td>\n",
              "      <td>0.970760</td>\n",
              "    </tr>\n",
              "    <tr>\n",
              "      <th>KNN (K = 7) (OverSampled)</th>\n",
              "      <td>0.964912</td>\n",
              "      <td>0.961486</td>\n",
              "      <td>0.972973</td>\n",
              "      <td>0.964912</td>\n",
              "    </tr>\n",
              "    <tr>\n",
              "      <th>GB (LR = 0.1) (OverSampled)</th>\n",
              "      <td>0.990991</td>\n",
              "      <td>0.970495</td>\n",
              "      <td>0.973451</td>\n",
              "      <td>0.976608</td>\n",
              "    </tr>\n",
              "    <tr>\n",
              "      <th>GB (LR = 0.2) (OverSampled)</th>\n",
              "      <td>0.990991</td>\n",
              "      <td>0.965991</td>\n",
              "      <td>0.973214</td>\n",
              "      <td>0.970760</td>\n",
              "    </tr>\n",
              "    <tr>\n",
              "      <th>GB (LR = 0.3) (OverSampled)</th>\n",
              "      <td>0.990991</td>\n",
              "      <td>0.970495</td>\n",
              "      <td>0.973451</td>\n",
              "      <td>0.976608</td>\n",
              "    </tr>\n",
              "    <tr>\n",
              "      <th>Random Forest (OverSampled)</th>\n",
              "      <td>0.990991</td>\n",
              "      <td>0.970495</td>\n",
              "      <td>0.973451</td>\n",
              "      <td>0.976608</td>\n",
              "    </tr>\n",
              "  </tbody>\n",
              "</table>\n",
              "</div>\n",
              "      <button class=\"colab-df-convert\" onclick=\"convertToInteractive('df-26614b70-eefb-4a2b-a451-df4e6719c5d9')\"\n",
              "              title=\"Convert this dataframe to an interactive table.\"\n",
              "              style=\"display:none;\">\n",
              "        \n",
              "  <svg xmlns=\"http://www.w3.org/2000/svg\" height=\"24px\"viewBox=\"0 0 24 24\"\n",
              "       width=\"24px\">\n",
              "    <path d=\"M0 0h24v24H0V0z\" fill=\"none\"/>\n",
              "    <path d=\"M18.56 5.44l.94 2.06.94-2.06 2.06-.94-2.06-.94-.94-2.06-.94 2.06-2.06.94zm-11 1L8.5 8.5l.94-2.06 2.06-.94-2.06-.94L8.5 2.5l-.94 2.06-2.06.94zm10 10l.94 2.06.94-2.06 2.06-.94-2.06-.94-.94-2.06-.94 2.06-2.06.94z\"/><path d=\"M17.41 7.96l-1.37-1.37c-.4-.4-.92-.59-1.43-.59-.52 0-1.04.2-1.43.59L10.3 9.45l-7.72 7.72c-.78.78-.78 2.05 0 2.83L4 21.41c.39.39.9.59 1.41.59.51 0 1.02-.2 1.41-.59l7.78-7.78 2.81-2.81c.8-.78.8-2.07 0-2.86zM5.41 20L4 18.59l7.72-7.72 1.47 1.35L5.41 20z\"/>\n",
              "  </svg>\n",
              "      </button>\n",
              "      \n",
              "  <style>\n",
              "    .colab-df-container {\n",
              "      display:flex;\n",
              "      flex-wrap:wrap;\n",
              "      gap: 12px;\n",
              "    }\n",
              "\n",
              "    .colab-df-convert {\n",
              "      background-color: #E8F0FE;\n",
              "      border: none;\n",
              "      border-radius: 50%;\n",
              "      cursor: pointer;\n",
              "      display: none;\n",
              "      fill: #1967D2;\n",
              "      height: 32px;\n",
              "      padding: 0 0 0 0;\n",
              "      width: 32px;\n",
              "    }\n",
              "\n",
              "    .colab-df-convert:hover {\n",
              "      background-color: #E2EBFA;\n",
              "      box-shadow: 0px 1px 2px rgba(60, 64, 67, 0.3), 0px 1px 3px 1px rgba(60, 64, 67, 0.15);\n",
              "      fill: #174EA6;\n",
              "    }\n",
              "\n",
              "    [theme=dark] .colab-df-convert {\n",
              "      background-color: #3B4455;\n",
              "      fill: #D2E3FC;\n",
              "    }\n",
              "\n",
              "    [theme=dark] .colab-df-convert:hover {\n",
              "      background-color: #434B5C;\n",
              "      box-shadow: 0px 1px 3px 1px rgba(0, 0, 0, 0.15);\n",
              "      filter: drop-shadow(0px 1px 2px rgba(0, 0, 0, 0.3));\n",
              "      fill: #FFFFFF;\n",
              "    }\n",
              "  </style>\n",
              "\n",
              "      <script>\n",
              "        const buttonEl =\n",
              "          document.querySelector('#df-26614b70-eefb-4a2b-a451-df4e6719c5d9 button.colab-df-convert');\n",
              "        buttonEl.style.display =\n",
              "          google.colab.kernel.accessAllowed ? 'block' : 'none';\n",
              "\n",
              "        async function convertToInteractive(key) {\n",
              "          const element = document.querySelector('#df-26614b70-eefb-4a2b-a451-df4e6719c5d9');\n",
              "          const dataTable =\n",
              "            await google.colab.kernel.invokeFunction('convertToInteractive',\n",
              "                                                     [key], {});\n",
              "          if (!dataTable) return;\n",
              "\n",
              "          const docLinkHtml = 'Like what you see? Visit the ' +\n",
              "            '<a target=\"_blank\" href=https://colab.research.google.com/notebooks/data_table.ipynb>data table notebook</a>'\n",
              "            + ' to learn more about interactive tables.';\n",
              "          element.innerHTML = '';\n",
              "          dataTable['output_type'] = 'display_data';\n",
              "          await google.colab.output.renderOutput(dataTable, element);\n",
              "          const docLink = document.createElement('div');\n",
              "          docLink.innerHTML = docLinkHtml;\n",
              "          element.appendChild(docLink);\n",
              "        }\n",
              "      </script>\n",
              "    </div>\n",
              "  </div>\n",
              "  "
            ]
          },
          "metadata": {}
        }
      ],
      "source": [
        "df_all = pd.concat([df_recall, df_roc, df_precision, df_accuracy], axis = 1)\n",
        "display(df_all)\n",
        "df_all_os = pd.concat([df_recall_os, df_roc_os, df_precision_os, df_accuracy_os], axis = 1)\n",
        "display(df_all_os)"
      ]
    },
    {
      "cell_type": "code",
      "source": [],
      "metadata": {
        "id": "UVhRF957h1ju"
      },
      "execution_count": null,
      "outputs": []
    }
  ],
  "metadata": {
    "colab": {
      "provenance": []
    },
    "kernelspec": {
      "display_name": "Python 3",
      "name": "python3"
    },
    "language_info": {
      "name": "python"
    }
  },
  "nbformat": 4,
  "nbformat_minor": 0
}